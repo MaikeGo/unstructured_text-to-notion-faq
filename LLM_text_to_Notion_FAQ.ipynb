{
  "cells": [
    {
      "cell_type": "markdown",
      "metadata": {},
      "source": [
        "# Overview\n",
        "\n",
        "This project uses an LLM (via the OpenAI API) to extract commonly asked questions from unstructured text data and automatically creates a Notion page (via the Notion API) to document them.\n",
        "\n",
        "The Slack message data used in this example was originally extracted using **Fivetran**.  However, the code is **designed to work with any text-based message data**. You can adapt it easily to any dataset containing text conversations (e.g., customer chats, support tickets, forum posts).\n",
        "\n",
        "The results created by the automated Notion integration can be viewed here:  \n",
        "🔗 [View Results on Notion](https://www.notion.so/Results-of-LLM-text-analysis-with-automated-Notion-Integration-1afd8cbfdbfd805d867bd9c9cb36e5d5)\n",
        "(Note: The formatting still has room for improvement!)\n",
        "\n",
        "---"
      ]
    },
    {
      "cell_type": "markdown",
      "metadata": {
        "id": "1HcLWj0WfHp_"
      },
      "source": [
        "# Requirements\n",
        "\n",
        "To run this notebook, you will need:\n",
        "\n",
        "- A database or file containing the text message data you want to analyze.\n",
        "- In this example, Slack message data (`team_slack`) is loaded from **Google Drive**.  \n",
        "  ➔ You will need to replace this part with your own data loading method, depending on where your messages are stored (e.g., local file, database, or cloud storage).\n",
        "- An **OpenAI API key** for processing and summarizing your text data.\n",
        "- A **Notion API integration**, which provides you with a Notion \"secret\" (your Notion API key), for automatically exporting the results to Notion.\n",
        "- An empty **Notion page** to export your results to.\n",
        "\n",
        "👉 **Important:**  \n",
        "- You must have a **billed OpenAI account** (free-tier accounts without billing enabled cannot use the API).\n",
        "- Running this notebook will **incur API costs** based on the number of tokens processed.  \n",
        "  Costs depend on the size of your message dataset and the OpenAI model you use.\n",
        "- You can create and manage your OpenAI API key here: [https://platform.openai.com/api-keys](https://platform.openai.com/api-keys)\n",
        "\n",
        "- You can create a **Notion integration** here: [https://www.notion.so/my-integrations](https://www.notion.so/my-integrations).  \n",
        "  After creating the integration, copy your **Internal Integration Token** (the Notion secret/API key), and  \n",
        "  ➔ **share the target Notion page** with your integration to give it the necessary permissions.\n",
        "\n",
        "Please make sure you have both API keys ready before running the code.  \n",
        "You can set them securely as environment variables (recommended) or insert them directly into the code (not recommended for shared environments).\n",
        "\n",
        "Example environment variables:\n",
        "- `OPENAI_API_KEY`\n",
        "- `NOTION_API_KEY`\n",
        "---"
      ]
    },
    {
      "cell_type": "markdown",
      "metadata": {
        "id": "U30hmVKvhQNl"
      },
      "source": [
        "# A Note on Batch Size and Temperature\n",
        "\n",
        "Batch size and temperature are parameters set inside the LLM function to control how the messages are processed and how consistent or creative the model's responses are.\n",
        "\n",
        "\n",
        "### 1️⃣ Batch Size: Affects Context and Accuracy\n",
        "\n",
        "**What It Does:**\n",
        "\n",
        "* Determines how many messages are processed in a single LLM call.\n",
        "* Larger batches provide more context, allowing the model to find recurring themes more effectively.\n",
        "* Smaller batches may miss broader patterns because the LLM sees less data at once.\n",
        "\n",
        "**Impact of Batch Size:**\n",
        "\n",
        "| Batch Size | Pros | Cons |\n",
        "|------------|---------------------------------|------------------------------------------------|\n",
        "| **Small (e.g., 10-20 messages per batch)** | Faster responses, easier error handling | Less context, less effective at spotting trends |\n",
        "| **Medium (e.g., 50-100 messages per batch, default)** | Balance of context and performance | Still may not catch all patterns |\n",
        "| **Large (e.g., 200+ messages per batch)** | More context, better at summarization | Slower response, might hit token limits |\n",
        "\n",
        "**Best Practice Summary for Batch Size:**\n",
        "\n",
        "* ✅ Use medium or large batch sizes (50-200 messages per batch)\n",
        "* ✅ If patterns aren't emerging, try increasing the batch size so the model sees more context.\n",
        "* ✅ If API calls are slow or expensive, reduce batch size to process in chunks.\n",
        "\n",
        "<br>\n",
        "\n",
        "> **Approach Chosen In This Case: Combine batch 100 & batch 300 results**\n",
        "> \n",
        "> Combining the results of batch size 100 and batch size 300 into a single, balanced summary, using LLM. This allows the LLM to merge the high-level themes from batch 300 with the more detailed breakdown from batch 100, resulting in a structured but not overly detailed summary.\n",
        "\n",
        "### 2️⃣ Temperature: Affects Consistency vs. Creativity\n",
        "\n",
        "**What It Does:**\n",
        "\n",
        "* Controls how random or deterministic the responses are.\n",
        "* Lower values (0.1 - 0.3) → More consistent, structured, and predictable outputs.\n",
        "* Higher values (0.7 - 1.0) → More creative, diverse, and sometimes inconsistent results.\n",
        "\n",
        "**Impact of Temperature:**\n",
        "\n",
        "| Temperature | Behavior | Use Case |\n",
        "|-------------|-----------------------------------|------------------------------------------------------------|\n",
        "| **0.1 - 0.3** | Consistent, structured, focused | Best for summaries, factual outputs, and categorization |\n",
        "| **0.4 - 0.6** | Some variation, slight randomness | Good for brainstorming alternative groupings |\n",
        "| **0.7 - 1.0** | Highly creative, less structured | Best for generating unique ideas, but not for structured summarization |\n",
        "\n",
        "\n",
        "**Best Practice Summary for Temperature settings:**\n",
        "\n",
        "* ✅ Use a low temperature (0.2 - 0.3) to get a clear, structured summary.\n",
        "* ✅ If the model's output is too rigid, try increasing the temperature slightly (0.4 - 0.5).\n",
        "* ✅ If the output is too chaotic or inconsistent, lower the temperature to 0.1 - 0.2.\n"
      ]
    },
    {
      "cell_type": "markdown",
      "metadata": {
        "id": "-u2Ifdt_e2cn"
      },
      "source": [
        "# Here Comes the Code"
      ]
    },
    {
      "cell_type": "markdown",
      "metadata": {},
      "source": [
        "## Import necessary libraries"
      ]
    },
    {
      "cell_type": "code",
      "execution_count": 3,
      "metadata": {
        "id": "tRtYxTaxJBbx"
      },
      "outputs": [],
      "source": [
        "# Install the OpenAI Python package if you haven't already\n",
        "# (You can run this in your terminal or notebook once)\n",
        "# pip install openai\n",
        "\n",
        "# Import necessary libraries\n",
        "import openai  # For interacting with the OpenAI API\n",
        "import pandas as pd  # For working with tabular data (e.g., storing and processing messages)\n",
        "import os  # For accessing environment variables (e.g., loading the OpenAI API key) and handling file paths"
      ]
    },
    {
      "cell_type": "markdown",
      "metadata": {
        "id": "FAwQ4O2cJX-A"
      },
      "source": [
        "## Set Up LLM Access (OpenAI)"
      ]
    },
    {
      "cell_type": "code",
      "execution_count": null,
      "metadata": {
        "id": "xNoX10VQJMJO"
      },
      "outputs": [],
      "source": [
        "os.environ[\"OPENAI_API_KEY\"] = \"insert_your_openai_api_key\" # Insert your OpenAI api key here\n",
        "\n",
        "client = openai.OpenAI(api_key=os.getenv(\"OPENAI_API_KEY\"))"
      ]
    },
    {
      "cell_type": "markdown",
      "metadata": {
        "id": "wHApePi9Jaqb"
      },
      "source": [
        "## Load the message data\n",
        "\n",
        "⚡ Note: In this example, the Slack messages (\"team_slack\") are loaded from Google Drive.\n",
        "\n",
        "Replace this with your own data loading method if your messages are stored elsewhere (e.g., local CSV, database query, other cloud storage).\n"
      ]
    },
    {
      "cell_type": "code",
      "execution_count": null,
      "metadata": {
        "colab": {
          "base_uri": "https://localhost:8080/"
        },
        "id": "cfxf4B79KJz6",
        "outputId": "0afe1207-1974-4fbb-c92a-fabce15b2ab9"
      },
      "outputs": [
        {
          "name": "stdout",
          "output_type": "stream",
          "text": [
            "Drive already mounted at /content/drive; to attempt to forcibly remount, call drive.mount(\"/content/drive\", force_remount=True).\n"
          ]
        }
      ],
      "source": [
        "from google.colab import drive\n",
        "drive.mount('/content/drive')"
      ]
    },
    {
      "cell_type": "code",
      "execution_count": null,
      "metadata": {
        "id": "EamVRWWeJrz4"
      },
      "outputs": [],
      "source": [
        "file_path = \"/content/drive/My Drive/data/team_slack_20250224.csv\"\n",
        "team_slack = pd.read_csv(file_path)"
      ]
    },
    {
      "cell_type": "code",
      "execution_count": null,
      "metadata": {
        "colab": {
          "base_uri": "https://localhost:8080/"
        },
        "id": "Za4XCgMlKTjz",
        "outputId": "5a8221da-bca4-4764-d1e3-4cb535852db7"
      },
      "outputs": [
        {
          "name": "stdout",
          "output_type": "stream",
          "text": [
            "<class 'pandas.core.frame.DataFrame'>\n",
            "RangeIndex: 1864 entries, 0 to 1863\n",
            "Data columns (total 20 columns):\n",
            " #   Column              Non-Null Count  Dtype  \n",
            "---  ------              --------------  -----  \n",
            " 0   message_channel_id  1864 non-null   object \n",
            " 1   parent_message_ts   1864 non-null   float64\n",
            " 2   ts                  1864 non-null   float64\n",
            " 3   user_id             1864 non-null   object \n",
            " 4   subtype             197 non-null    object \n",
            " 5   last_read           0 non-null      float64\n",
            " 6   subscribed          291 non-null    object \n",
            " 7   source_team         0 non-null      float64\n",
            " 8   type                1864 non-null   object \n",
            " 9   team                1543 non-null   object \n",
            " 10  is_locked           291 non-null    object \n",
            " 11  edited_user         176 non-null    object \n",
            " 12  _fivetran_deleted   1864 non-null   bool   \n",
            " 13  _fivetran_synced    1864 non-null   object \n",
            " 14  edited_ts           176 non-null    float64\n",
            " 15  reply_count         291 non-null    float64\n",
            " 16  thread_ts           1586 non-null   float64\n",
            " 17  reply_users_count   291 non-null    float64\n",
            " 18  latest_reply        291 non-null    float64\n",
            " 19  masked_text         1817 non-null   object \n",
            "dtypes: bool(1), float64(9), object(10)\n",
            "memory usage: 278.6+ KB\n"
          ]
        }
      ],
      "source": [
        "team_slack.info()"
      ]
    },
    {
      "cell_type": "markdown",
      "metadata": {},
      "source": [
        "## Preprocess data\n",
        "\n",
        "This step applies basic cleaning to the Slack messages:\n",
        "- Removes any leading or trailing spaces\n",
        "- Ensures that only valid text strings are processed (non-strings are replaced with an empty string)\n"
      ]
    },
    {
      "cell_type": "code",
      "execution_count": null,
      "metadata": {
        "id": "g8p6HCOzJURV"
      },
      "outputs": [],
      "source": [
        "# Apply the preprocessing function to the 'masked_text' column and store the cleaned text in a new column 'clean_text'\n",
        "\n",
        "\n",
        "def preprocess_text(text):\n",
        "    \"\"\"Basic cleaning of Slack messages\"\"\"\n",
        "    if isinstance(text, str):  # Ensure it's a string before processing\n",
        "        return text.strip()  # Remove leading/trailing spaces\n",
        "    return \"\"\n",
        "\n",
        "team_slack['clean_text'] = team_slack['masked_text'].apply(preprocess_text)"
      ]
    },
    {
      "cell_type": "markdown",
      "metadata": {
        "id": "oZDO2vc_NctI"
      },
      "source": [
        "## Use OpenAI to extract common questions\n"
      ]
    },
    {
      "cell_type": "markdown",
      "metadata": {
        "id": "ncqr2C8MTthe"
      },
      "source": [
        "### LLM Function and Prompt\n",
        "\n",
        "The function below sends a structured prompt to the OpenAI model (default: GPT-4o) to identify and group actual questions from a batch of Slack messages into an FAQ-style format.\n",
        "\n",
        "In the development process, I ran several versions of the prompt and gradually refined it to improve the results.\n",
        "\n",
        "The prompt was improved step-by-step to ensure:\n",
        "* ✅ Focus on extracting **actual questions** from the text (not just themes or summaries)\n",
        "* ✅ **Grouping similar questions** together into a coherent FAQ format\n",
        "* ✅ **Removing unnecessary thematic descriptions** and ensuring the questions are **clear and concise**\n",
        "\n",
        "In this cleaned-up version, only the final, optimized prompt is included."
      ]
    },
    {
      "cell_type": "code",
      "execution_count": null,
      "metadata": {
        "id": "h3Cdh0rW3KO6"
      },
      "outputs": [],
      "source": [
        "def extract_faq_questions(messages, model=\"gpt-4o\"):\n",
        "    \"\"\"Extract actual FAQ-style common questions from Slack messages\"\"\"\n",
        "\n",
        "    prompt = f\"\"\"\n",
        "You are analyzing Slack messages to extract **common recurring questions** that team members frequently ask.\n",
        "\n",
        "### **Instructions:**\n",
        "- Extract **only actual questions** (e.g., \"How do I get API access?\" instead of \"Discussing API access\").\n",
        "- Group them into **clear FAQ categories**.\n",
        "- Do **not include summaries or descriptions**—only list questions.\n",
        "- Do **not switch to general topic descriptions**—always extract full-sentence questions.\n",
        "\n",
        "### **Expected Output Format:**\n",
        "\n",
        "**1. Meeting Schedules & Availability**\n",
        "- What time works for everyone for the next team meeting?\n",
        "- Can we schedule a 1-1 session?\n",
        "- Is there a slot available to meet before our scheduled call?\n",
        "\n",
        "**2. API Access & Authentication**\n",
        "- How do I obtain OAuth credentials for API access?\n",
        "- What permissions are required to authenticate via the API?\n",
        "- How do I troubleshoot OAuth authentication failures?\n",
        "\n",
        "**3. Debugging & Technical Issues**\n",
        "- How do I resolve an SSL protocol error?\n",
        "- What's the best way to debug OAuth authentication issues?\n",
        "- How do I fix issues with database connections?\n",
        "\n",
        "**4. Project Management & Task Coordination**\n",
        "- How should we organize project tasks in Notion?\n",
        "- What is the best practice for managing Git branches?\n",
        "- How do we handle merging conflicts effectively?\n",
        "\n",
        "---\n",
        "\n",
        "**Here are the extracted Slack messages:**\n",
        "\n",
        "{messages}\n",
        "\n",
        "**Now, extract and format only direct questions under their respective categories. Do NOT include descriptions or summaries. Avoid switching to topic descriptions.**\n",
        "\n",
        "\n",
        "    \"\"\"\n",
        "\n",
        "    # client = openai.OpenAI(api_key=\"your-api-key-here\")\n",
        "\n",
        "    response = client.chat.completions.create(\n",
        "        model=model,\n",
        "        messages=[\n",
        "            {\"role\": \"system\", \"content\": \"You are an expert in identifying and structuring common questions in team discussions.\"},\n",
        "            {\"role\": \"user\", \"content\": prompt}\n",
        "        ],\n",
        "        temperature=0.3  # Ensures structured, non-random responses\n",
        "    )\n",
        "\n",
        "    return response.choices[0].message.content  # Extract the FAQ-style questions\n"
      ]
    },
    {
      "cell_type": "markdown",
      "metadata": {},
      "source": [
        "### Run with batch size 100"
      ]
    },
    {
      "cell_type": "code",
      "execution_count": null,
      "metadata": {
        "id": "JyI11Olx3WBS"
      },
      "outputs": [],
      "source": [
        "def batch_messages_100(df, column='masked_text', batch_size=100):\n",
        "    \"\"\"Processes messages in batches and extracts common questions\"\"\"\n",
        "    questions = []\n",
        "    for i in range(0, len(df), batch_size):\n",
        "        batch = \"\\n\".join(df[column][i:i+batch_size].dropna().tolist())  # Drop NaNs before joining\n",
        "        result = extract_faq_questions(batch)\n",
        "        questions.append(result)\n",
        "    return questions"
      ]
    },
    {
      "cell_type": "code",
      "execution_count": null,
      "metadata": {
        "id": "-q70OAjd4d9J"
      },
      "outputs": [],
      "source": [
        "faq_b100 = batch_messages_100(team_slack, column='masked_text')\n"
      ]
    },
    {
      "cell_type": "code",
      "execution_count": null,
      "metadata": {
        "colab": {
          "base_uri": "https://localhost:8080/"
        },
        "id": "SGowq6Sa4pVL",
        "outputId": "35e23651-b4c1-44a9-d3e7-c45b6fe0039f"
      },
      "outputs": [
        {
          "data": {
            "text/plain": [
              "[\"**1. Meeting Schedules & Availability**\\n- What time works for everyone for the next team meeting?\\n- Can we schedule a 1-1 session?\\n- Is there a slot available to meet before our scheduled call?\\n- Will 9:00 or 9:30 work for you?\\n- What time of the day in general would you like to dedicate your Webeet hours at?\\n\\n**2. API Access & Authentication**\\n- If you have any question on your personal API research, don't hesitate to ask me here or in private messages.\\n\\n**3. Project Management & Task Coordination**\\n- Please let me know what hours work for you, so that we can plan team calls according to them.\\n- Please schedule a meeting with me for next week, to review your resumes and Linkedin profiles.\\n- Can we quickly wrap this up in a huddle?\\n\\n**4. Feedback & Suggestions**\\n- Please let me know if it’s too cheesy. I can tone it down. I’m not sure what the investors are into.\",\n",
              " '**1. Meeting Schedules & Availability**\\n- What time works for you so we can schedule a call?\\n- Please let me know if it works for you.\\n- Feel free to schedule a meeting with me tomorrow so we can discuss your task and the setup of the server.\\n\\n**2. API Access & Authentication**\\n- Is this something that can help us with integration?\\n- How to connect with [NAME HIDDEN] API best when we use Next.js and Node.js?\\n\\n**3. Debugging & Technical Issues**\\n- Is there a server conflict somewhere?\\n- Did you provide the bank info in the [NAME HIDDEN] Agreement when you signed?\\n\\n**4. Project Management & Task Coordination**\\n- If you did not get an invite, please let me know.\\n- Please provide me your GitHub username so I can add you to the project on GitHub.\\n- Please let me know how your experience using Asana is and/or if you have ideas to improve.\\n\\n**5. Product Features & Tools**\\n- Does it reduce complexity?\\n- Will it speed up integration to new tools?\\n- Will it help align the data received from these APIs?',\n",
              " \"**1. Meeting Schedules & Availability**\\n- What time works for everyone for the next team meeting?\\n- Can we schedule a 1-1 session?\\n- Is there a slot available to meet before our scheduled call?\\n- I meant to ask if I could get the agenda for this meeting. Is it for the purpose of tech planning?\\n- Should I schedule with <@U07V5LLC2UR> regardless of this meeting or should this meeting cover our needs?\\n- Will 11:30 to 13:00 work for everyone?\\n- Please let me know if it works for you.\\n\\n**2. API Access & Authentication**\\n- How do I obtain OAuth credentials for API access?\\n- What permissions are required to authenticate via the API?\\n- How do I troubleshoot OAuth authentication failures?\\n- Just making sure before I jump on board- we're using Next.js in this project, right?\\n- Let me know if you have any concerns.\\n\\n**3. Debugging & Technical Issues**\\n- How do I resolve an SSL protocol error?\\n- What’s the best way to debug OAuth authentication issues?\\n- How do I fix issues with database connections?\\n- I may have reached the quota limit or there are other issues. I tried to run this: curl -X POST <[URL HIDDEN] - can you help?\\n- Please let me know ASAP which option suits best.\\n\\n**4. Project Management & Task Coordination**\\n- How should we organize project tasks in Notion?\\n- What is the best practice for managing Git branches?\\n- How do we handle merging conflicts effectively?\\n- Is it ok if I merge it and make another PR to follow this guide?\\n- Do you prefer that I make the changes to follow the guide now and request a revision in the current PR?\\n- Let me know if you have ideas about the elements that I listed, elements that may be missing, idea of action/calculation, etc.\\n- Please specify exactly which ones should be implemented.\\n\\n**5. Tools & Resources**\\n- Is <[URL HIDDEN] [NAME HIDDEN]> suitable?\\n- Let me know if you can see it and then if you have any questions.\",\n",
              " \"**1. Meeting Schedules & Availability**\\n- What time works for everyone for the next team meeting?\\n- Can we schedule a 1-1 session?\\n- Is there a slot available to meet before our scheduled call?\\n- Let me know if it doesn't work for you?\\n- Can I take the Gmail API research?\\n- Is it ok if I just put it on the same page or should I create a new one?\\n- Should I rename my branch before opening the PR?\\n\\n**2. API Access & Authentication**\\n- How do I obtain OAuth credentials for API access?\\n- What permissions are required to authenticate via the API?\\n- How do I troubleshoot OAuth authentication failures?\\n- Can you give me access?\\n- Can you add me as an admin there and send me the link?\\n\\n**3. Debugging & Technical Issues**\\n- How do I resolve an SSL protocol error?\\n- What’s the best way to debug OAuth authentication issues?\\n- How do I fix issues with database connections?\\n- Am I missing something?\\n- Shouldn't we also get created_at?\\n- What happens if you follow this link?\\n\\n**4. Project Management & Task Coordination**\\n- How should we organize project tasks in Notion?\\n- What is the best practice for managing Git branches?\\n- How do we handle merging conflicts effectively?\\n- Do you have something on your mind?\\n- Anything else is blocking you, guys? Anything that I am missing?\\n\\n**5. Documentation & Resources**\\n- Can you also please add to the doc a brief table from your weighted score system on what we can calculate and how it can be used?\\n- Can you please create a section in the doc about Reclaim?\\n- How does reclaim define that?\\n- How do you want to integrate the ideas on the score system?\\n\\n**6. General Queries**\\n- What else?\\n- Is it fine if I create a test set for the mongo integration?\\n- Can you look this up?\",\n",
              " \"**1. Meeting Schedules & Availability**\\n- What time works for everyone for the next team meeting?\\n- Can we schedule a 1-1 session?\\n- Is there a slot available to meet before our scheduled call?\\n\\n**2. API Access & Authentication**\\n- How do I obtain OAuth credentials for API access?\\n- What permissions are required to authenticate via the API?\\n- How do I troubleshoot OAuth authentication failures?\\n\\n**3. Debugging & Technical Issues**\\n- How do I resolve an SSL protocol error?\\n- What’s the best way to debug OAuth authentication issues?\\n- How do I fix issues with database connections?\\n\\n**4. Project Management & Task Coordination**\\n- How should we organize project tasks in Notion?\\n- What is the best practice for managing Git branches?\\n- How do we handle merging conflicts effectively?\\n\\n**5. Feature Implementation & Design**\\n- According to the design, should we add a functionality to change the email?\\n- Is there another platform in Israel for buying gift cards?\\n\\n**6. Integration & Permissions**\\n- Connect to an integration?\\n- Please specify if and if so- which of the scopes should be used instead of `admin`?\\n- Can you specify user's data?\",\n",
              " '**1. Meeting Schedules & Availability**\\n- What time works for everyone for the next team meeting?\\n- Can we schedule a 1-1 session?\\n- Is there a slot available to meet before our scheduled call?\\n\\n**2. API Access & Authentication**\\n- How do I obtain OAuth credentials for API access?\\n- What permissions are required to authenticate via the API?\\n- How do I troubleshoot OAuth authentication failures?\\n- Could you please advise on which solution we should implement for the SSL protocol error?\\n\\n**3. Debugging & Technical Issues**\\n- How do I resolve an SSL protocol error?\\n- What’s the best way to debug OAuth authentication issues?\\n- How do I fix issues with database connections?\\n- Did anyone disable the creation of keys for service account in [NAME HIDDEN] Platform?\\n- Can we lift the restriction on creating keys for service accounts?\\n\\n**4. Project Management & Task Coordination**\\n- How should we organize project tasks in Notion?\\n- What is the best practice for managing Git branches?\\n- How do we handle merging conflicts effectively?\\n- Can you specify the exact page you tried to access?\\n\\n**5. Access & Permissions**\\n- Can we lift this restriction on creating keys for service accounts in [NAME HIDDEN] Platform?',\n",
              " \"**1. Meeting Schedules & Availability**\\n- Can we have a quick recording of a demo when it's ready?\\n- Let me know your availability so that we can collaborate on the task.\\n- Can you join?\\n\\n**2. Project Management & Task Coordination**\\n- Should we make our most recent code into that branch, or should we just change the branch that wants to merge to dev to be on the consolidation branch?\\n- Should we delete the feature branches remotely?\\n- So should I merge the work we did in `feat.slack/secure-token-storage` into `consolidation-slack` or should I delete the branch?\\n- Does it count if I employ myself too?\\n- Can you let me know how to contact her or would you like to introduce her first so she is aware?\\n- Do you mean the doc we created for clients? About manual extract?\\n\\n**3. API Access & Authentication**\\n- Let's go over the doc about manual export for Slack, [NAME HIDDEN] + get how to extract Zendesk data from <@U088J4Q3XAP>.\\n\\n**4. Debugging & Technical Issues**\\n- Is there a bug with notion permissions?\\n\\n**5. Miscellaneous**\\n- Does that mean if I find a job you'll pay me [NUMBER HIDDEN] euro?\",\n",
              " \"**1. Meeting Schedules & Availability**\\n- What time works for everyone for the next team meeting?\\n- Can we schedule a 1-1 session?\\n- Is there a slot available to meet before our scheduled call?\\n- Is there a record on the meeting to take a look too?\\n- Please set a meeting I have some slots today!\\n\\n**2. Documentation & Information Sharing**\\n- Should the info from official docs be documented here or here?\\n- Where can we find the summary and action items you prepared?\\n- What's the best way to share a Notion page? I don't want to publish this page, should I move it to [NAME HIDDEN]?\\n- Can I make a copy of the report you made and try exploring [NAME HIDDEN]?\\n\\n**3. Project Management & Task Coordination**\\n- Do we have a new logical flow for admins, so we can start and build the UX/UI for it?\\n- What is the difference between publishing a Notion page or a [NAME HIDDEN]?\\n\\n**4. Technical Tools & Resources**\\n- When are you going to get a ChatGPT account any idea?\\n\\n**5. Networking & Professional Development**\\n- How can we use networking to our advantage?\",\n",
              " \"**1. Meeting Schedules & Availability**\\n- What time works for everyone for the next team meeting?\\n- Can we schedule a 1-1 session?\\n- Is there a slot available to meet before our scheduled call?\\n- Let’s set up a meeting soon and set that up?\\n- Can you see me on the list?\\n\\n**2. API Access & Authentication**\\n- How do I obtain OAuth credentials for API access?\\n- What permissions are required to authenticate via the API?\\n- How do I troubleshoot OAuth authentication failures?\\n\\n**3. Debugging & Technical Issues**\\n- How do I resolve an SSL protocol error?\\n- What’s the best way to debug OAuth authentication issues?\\n- How do I fix issues with database connections?\\n- Can you log in into boot.dev with your Webeet email and see if you have access?\\n- Let me know if you have time tomorrow to fix that on a quick call together?\\n\\n**4. Project Management & Task Coordination**\\n- How should we organize project tasks in Notion?\\n- What is the best practice for managing Git branches?\\n- How do we handle merging conflicts effectively?\\n\\n**5. Account & Access Management**\\n- Do you have full access to your @webeet.io emails?\\n- Can you help us with that?\\n- Did I miss a response from them? Did they approve?\\n- Can you log in into boot.dev with your Webeet email and see if you have access?\\n\\n**6. Data Management & Security**\\n- If we need to use BigQuery, we would still need to figure out the limitations on creating service accounts that's imposed on organization?\\n- Was it an account set up specifically for the Fivetran account so if further probed, the details could be shared between your team/who needs access?\\n- Or if not, an NDA in place?\",\n",
              " \"**1. Meeting Schedules & Availability**\\n- What time works for everyone for the next team meeting?\\n- Can we schedule a 1-1 session?\\n- Is there a slot available to meet before our scheduled call?\\n- Let me know when is the earliest you're available for a call?\\n- Can we have a meeting post 10:45 am?\\n- Do we have shared data camp account?\\n\\n**2. API Access & Authentication**\\n- How do I obtain OAuth credentials for API access?\\n- What permissions are required to authenticate via the API?\\n- How do I troubleshoot OAuth authentication failures?\\n\\n**3. Debugging & Technical Issues**\\n- How do I resolve an SSL protocol error?\\n- What’s the best way to debug OAuth authentication issues?\\n- How do I fix issues with database connections?\\n- How should we prepare Zendesk data for them to play with?\\n\\n**4. Project Management & Task Coordination**\\n- How should we organize project tasks in Notion?\\n- What is the best practice for managing Git branches?\\n- How do we handle merging conflicts effectively?\\n\\n**5. Freelancing & Business Registration**\\n- Do you need an academic degree to register as a freelancer in Germany?\\n- Should I register a business instead of being a freelancer?\\n\\n**6. Course Progress & Learning**\\n- Are you joining the Boot.dev course?\\n- How’s your Boot.dev course going?\\n- Do you need help with anything in your course progress?\",\n",
              " \"**1. Meeting Schedules & Availability**\\n- What time works for everyone for the next team meeting?\\n- Can we schedule a 1-1 session?\\n- Is there a slot available to meet before our scheduled call?\\n- How about meeting on Monday then, if Friday doesn't really work?\\n- Please let me know if it works for you.\\n\\n**2. Metrics & KPIs**\\n- Guys, what are we choosing as first metrics?\\n- Can you check whether the sensitive data is hidden now?\\n\\n**3. Access & Permissions**\\n- Can you share access to it when you have time?\\n- Do I mind if we post it on our Webeet side as well?\\n- Good morning all? @ Anastasia, I do not have access to the link.\\n- Can you describe again exactly what we should write in AI tools?\\n- Do you need me to grant you any rights to impose the policy?\\n\\n**4. Taxation & Regulations**\\n- Can you check if <[URL HIDDEN]|webeet.io> can work directly with them?\",\n",
              " \"**1. Meeting Schedules & Availability**\\n- Which branch should we pull? Should we run `git pull origin main`, or is there a `git pull origin development` branch we should be working from?\\n- Is this recorded, I was on continuous meetings and my Calendar didn't notify me the meeting?\\n\\n**2. API Access & Authentication**\\n(No questions identified in this category.)\\n\\n**3. Debugging & Technical Issues**\\n- How can we verify there are zero hallucinations in prompts and manual checking?\\n- How would an automated process (ATS or something similar) handle this change for the work experience period?\\n\\n**4. Project Management & Task Coordination**\\n- Have you added me to the repo yet? I haven’t received any updates on it. Let me know if you need anything from my side.\\n- Mayer, have you added the repo?\\n- Is that all colors we got from Gill?\\n\\n**5. Data Access & Permissions**\\n- Would you also give me access to the data?\",\n",
              " '**1. Meeting Schedules & Availability**\\n- What time works for everyone for the next team meeting?\\n- Can we schedule a 1-1 session?\\n- Is there a slot available to meet before our scheduled call?\\n- Can you please record the meeting?\\n- Is anyone able to fix this problem?\\n\\n**2. API Access & Authentication**\\n- How do I obtain OAuth credentials for API access?\\n- What permissions are required to authenticate via the API?\\n- How do I troubleshoot OAuth authentication failures?\\n\\n**3. Debugging & Technical Issues**\\n- How do I resolve an SSL protocol error?\\n- What’s the best way to debug OAuth authentication issues?\\n- How do I fix issues with database connections?\\n- Did you configure the doppler CLI with the new login?\\n- Did you log in with Google?\\n- Is there a chance you have another instance of the application running?\\n\\n**4. Project Management & Task Coordination**\\n- How should we organize project tasks in Notion?\\n- What is the best practice for managing Git branches?\\n- How do we handle merging conflicts effectively?\\n\\n**5. Workspace & Access Issues**\\n- I do not have an invitation to join a workspace.\\n- Could you check if there’s an issue with the access or if I need to take any additional steps?\\n\\n**6. Technical Concepts & Learning**\\n- What are self-healing systems and how do they work?',\n",
              " '**1. Meeting Schedules & Availability**\\n- Does anyone have schedule conflicts with the time?\\n\\n**2. API Access & Authentication**\\n(No questions extracted in this category from the provided messages.)\\n\\n**3. Debugging & Technical Issues**\\n- Has anyone managed to use the Claud AI [NAME HIDDEN] on an iPhone?\\n- If I want to analyze the last three months how do I do that?\\n\\n**4. Project Management & Task Coordination**\\n(No questions extracted in this category from the provided messages.)',\n",
              " \"**1. Meeting Schedules & Availability**\\n- Can we schedule a 1-1 session?\\n- Is there a slot available to meet before our scheduled call?\\n\\n**2. API Access & Authentication**\\n- What does it mean?\\n- Can we create an API key to point to the specific user and let them copy it?\\n\\n**3. Debugging & Technical Issues**\\n- Can you help?\\n- Has anyone else experienced this?\\n- What now? Compare to the previous git log?\\n- What is the best way to debug OAuth authentication issues?\\n\\n**4. Project Management & Task Coordination**\\n- What are we using? Jest?\\n- How did you approach this, why, what tech did you use, features and what you will do next with it?\\n\\n**5. Subscription & Access**\\n- How about ChatGPT? I don't have a plus subscription yet.\\n- Udemy or ChatGPT as well?\\n\\n**6. Contact & Communication**\\n- What is the best way for them to contact you?\",\n",
              " '**1. Meeting Schedules & Availability**\\n- What time works for everyone for the next team meeting?\\n- Can we schedule a 1-1 session?\\n- Is there a slot available to meet before our scheduled call?\\n- Can someone share the Zoom link here?\\n- Should we have a meeting tomorrow (morning)?\\n- Please let me know if the time is not working for you.\\n\\n**2. API Access & Authentication**\\n- How do I obtain OAuth credentials for API access?\\n- What permissions are required to authenticate via the API?\\n- How do I troubleshoot OAuth authentication failures?\\n\\n**3. Debugging & Technical Issues**\\n- How do I resolve an SSL protocol error?\\n- What’s the best way to debug OAuth authentication issues?\\n- How do I fix issues with database connections?\\n\\n**4. Project Management & Task Coordination**\\n- How should we organize project tasks in Notion?\\n- What is the best practice for managing Git branches?\\n- How do we handle merging conflicts effectively?\\n- What are you trying to build?\\n- Do you know about any interesting studies, or other content you would like to share?',\n",
              " \"**1. Meeting Schedules & Availability**\\n- What time works for everyone for the next team meeting?\\n- Can we schedule a 1-1 session?\\n- Is there a slot available to meet before our scheduled call?\\n- Do we have another meeting this week?\\n- Where are we meeting today?\\n\\n**2. Data Collection & Management**\\n- Do we want to collect old data too or we start collecting from the day they give us access?\\n- How are the tables related, especially with Fivetran's calculations and aggregations?\\n\\n**3. Project Management & Task Coordination**\\n- Do you feel like it is self-explanatory or do you want to meet today and discuss it?\\n- To keep consistent with naming conventions across the project, should it be named `CLIENT_BASE`?\\n\\n**4. Learning & Development**\\n- How's your learning going? What do you think about boot.dev? The quality of the courses is as advertised?\\n\\n**5. Technical Issues & Debugging**\\n- (No direct questions extracted in this category from the provided messages.)\\n\\n**6. Financial & Administrative**\\n- Did everyone receive the payment for January?\",\n",
              " \"**1. API Access & Authentication**\\n- Is there any route to check connect/disconnect functionality from the frontend?\\n- What are the `.env` keys used in the server?\\n\\n**2. Data Access & Permissions**\\n- Can you please give access to sensitive columns for all of the team members?\\n\\n**3. Meeting Schedules & Availability**\\n- Le me know what you think about canceling today's Pilot meeting?\\n\\n**4. Technical Issues & Debugging**\\n- Can you have a look once on this excel?\",\n",
              " \"**1. Meeting Schedules & Availability**\\n- What time works for everyone for the next team meeting?\\n- Can we schedule a 1-1 session?\\n- Is there a slot available to meet before our scheduled call?\\n- Would you have time to have a quick huddle today?\\n- Whoever wants to attend a meeting in the evening about KPI metrics, please let us know!\\n\\n**2. API Access & Authentication**\\n- How do I obtain OAuth credentials for API access?\\n- What permissions are required to authenticate via the API?\\n- How do I troubleshoot OAuth authentication failures?\\n\\n**3. Debugging & Technical Issues**\\n- How do I resolve an SSL protocol error?\\n- What’s the best way to debug OAuth authentication issues?\\n- How do I fix issues with database connections?\\n- How do I handle the contract and registration with the Finanzamt if I was on Jobcenter before this job?\\n- How would I go about analyzing a CSV file with SQL queries?\\n- Do you use BigQuery, or which programs/platforms do you use for SQL queries?\\n\\n**4. Project Management & Task Coordination**\\n- How should we organize project tasks in Notion?\\n- What is the best practice for managing Git branches?\\n- How do we handle merging conflicts effectively?\\n- If you need descriptions in the task, please let me know!\\n- If you need ANY of my help, please let me know.\\n\\n**5. Tools & Subscriptions**\\n- Does anyone have good practical knowledge of Airtable?\\n- When does your Datacamp subscription expire?\\n- Please let me know if you haven't received access to GCP.\\n- Make sure that you have access to ChatGPT Pro and [NAME HIDDEN]. Those who haven't, please let me know in the thread.\"]"
            ]
          },
          "execution_count": 147,
          "metadata": {},
          "output_type": "execute_result"
        }
      ],
      "source": [
        "faq_b100"
      ]
    },
    {
      "cell_type": "markdown",
      "metadata": {
        "id": "6U4Bi8veWnlH"
      },
      "source": [
        "### Run with batch size 300\n",
        "\n",
        "Larger batches provide more context, allowing the model to find recurring themes more effectively."
      ]
    },
    {
      "cell_type": "code",
      "execution_count": null,
      "metadata": {
        "id": "l7vstuo0TsIa"
      },
      "outputs": [],
      "source": [
        "def batch_messages_300(df, column='masked_text', batch_size=300):\n",
        "    \"\"\"Processes messages in batches and extracts common questions\"\"\"\n",
        "    questions = []\n",
        "    for i in range(0, len(df), batch_size):\n",
        "        batch = \"\\n\".join(df[column][i:i+batch_size].dropna().tolist())  # Drop NaNs before joining\n",
        "        result = extract_faq_questions(batch)\n",
        "        questions.append(result)\n",
        "    return questions"
      ]
    },
    {
      "cell_type": "code",
      "execution_count": null,
      "metadata": {
        "colab": {
          "base_uri": "https://localhost:8080/"
        },
        "id": "YPjvmVzl-PHM",
        "outputId": "9945cd4c-4a41-4248-d906-1257166c4636"
      },
      "outputs": [
        {
          "data": {
            "text/plain": [
              "['Based on the Slack messages provided, here are the common questions being asked:\\n\\n1. What time works best for team meetings and individual 1-1 sessions?\\n2. Can you share your availability for Webeet hours?\\n3. Have you completed the tasks related to API research?\\n4. Can you provide feedback or thoughts on joining MindGuard for the newsletter?\\n5. What stack of technologies did you use at Masterschool, and what additional skills have you gathered?\\n6. Do you have any questions on your personal API research or need further assistance?\\n7. Have you scheduled a meeting to review your resumes and LinkedIn profiles?\\n8. Can you add your new position on LinkedIn and connect with the team?\\n\\nThese questions focus primarily on scheduling, task completion, feedback for company communications, and professional development.',\n",
              " 'Based on the Slack messages provided, here are the most common questions being asked:\\n\\n1. When is the next team meeting or call scheduled, and who should attend?\\n2. Have you received the invitation to join the new workspace or platform (e.g., Asana, MongoDB)?\\n3. Is there any update or issue with the integration of specific tools or APIs (e.g., OAuth setup, [NAME HIDDEN] integration)?\\n4. Did you provide the necessary bank information in the [NAME HIDDEN] Agreement?\\n5. What size hoodie do you need for the new items being sent out?\\n6. How is the experience using Asana for documentation, and are there any suggestions for improvement?\\n7. Are there any technical issues or conflicts (e.g., server conflict, OAuth interface) that need to be resolved?',\n",
              " \"Based on the Slack messages provided, here are some recurring questions:\\n\\n1. Should I use one API to test the tokens, or is there any specific data needed for testing?\\n2. Can I get the agenda for the upcoming meeting? Is it for the purpose of tech planning, and should I schedule additional meetings regardless?\\n3. Is it okay to merge my code now and make another pull request to follow the new guide, or should I make the changes before merging?\\n4. Which library should be used for Slack integration: `@slack/web-api` or `axios`?\\n5. Is it suitable to use a specific library or method for a task (e.g., web-hooks for data streaming, library for Slack integration)?\\n6. Do you have any concerns with using our team's workspace for creating a new Slack app to obtain API access tokens?\\n7. What should be included in a pull request description to ensure clarity and completeness?\\n8. Can we finalize actions and events at a specific time that works for everyone?\\n9. Should I schedule a meeting with a specific person, or will the current meeting cover all our needs?\\n10. What elements or actions should be included in a particular document or table, and are there any missing elements?\",\n",
              " 'Based on the Slack messages, here are the recurring questions:\\n\\n1. How should we manage and integrate different branches in the new trunk-based development approach?\\n2. What should we do if we encounter issues with accessing or filling out the NDA document?\\n3. How do we handle integration and API setup, especially concerning user data and tokens?\\n4. What steps should we take if we experience access or permission issues within the Slack app or other platforms?\\n5. How do we resolve issues related to the registration event and user data fields?\\n6. What is the process for testing and deploying changes across different environments (development, staging, and main)?\\n7. How do we approach using webhooks instead of HTTP data fetching for integrations?\\n8. Are there any specific guidelines for naming and managing feature branches in the development workflow?\\n9. What are the expectations for the upcoming hackathon and the goals for the alpha version deployment?\\n10. How can we provide or gain access to specific documents or resources shared within the workspace?',\n",
              " \"Based on the Slack messages provided, here are some of the recurring questions being asked:\\n\\n1. Should HTTP-based subscriptions or a specific mode (name hidden) be used for a particular task?\\n2. Is there a functionality to change the email according to the design, and how should it be implemented given the current support for only Google authentication?\\n3. Which scopes should be used instead of `admin` for accessing user data, and what are the minimum permissions required for the app's functionality?\\n4. Is there another platform in Israel for buying gift cards, given the issues faced with Wolt?\\n5. Can you check if you received the gift card via your @webeet mail?\\n6. Are there any open branches that can be merged to complete the frontend?\\n7. Can you specify which user's data is needed for fetching?\\n8. Can someone confirm if the integration with Notion has been updated with the required information?\",\n",
              " '1. How can we resolve the ERR_SSL_PROTOCOL_ERROR when navigating to the OAuth URL?\\n2. Can we lift the restriction on creating keys for service accounts in the [NAME HIDDEN] Platform to connect to BigQuery via JSON?\\n3. Which solution should we implement for the mismatch between the redirect URI in the `.env` file and the local development server?\\n4. Is it possible to use one Udemy account for the entire team, or should individual access be purchased?\\n5. Can someone help Maria get started with her tasks?\\n6. Can we discuss the timeline for making our platform responsive with the current designs for mobile and tablet?\\n7. How can we get access to data manually for all users in Slack and [NAME HIDDEN]?\\n8. Can we change the settings to allow the creation of keys for service accounts in [NAME HIDDEN] Platform?',\n",
              " \"1. Can we have a quick recording of a demo when it's ready, it could be really nice to see some results (for the entire team)?\\n2. Should we delete the feature branches remotely?\\n3. Should I merge the work we did in `feat.slack/secure-token-storage` into `consolidation-slack` or should I delete the branch?\\n4. So should we make our most date code into that branch, or should we just change the branch that wants to merge to dev to be on consolidation branch?\\n5. Do you mean the doc we created for clients about manual extract?\\n6. Can you let me know how to contact her or would you like to introduce her first so she is aware?\",\n",
              " \"1. Is there a record of the meeting to take a look at?\\n2. Should the information from official documents be documented here or elsewhere?\\n3. Where can we find the summary and action items you prepared?\\n4. Do we have a new logical flow for admins, so we can start and build the UX/UI for it?\\n5. What is the difference between publishing a Notion page or a [NAME HIDDEN]?\\n6. What's the best way to share a Notion page if I don't want to publish it?\\n7. When are you going to get a ChatGPT account?\\n8. Can I make a copy of the report you made and try exploring [NAME HIDDEN]?\\n9. Will that be enough for Onebeat?\\n10. Can you please take a look at it from a security perspective to ensure we don't miss anything?\",\n",
              " 'Based on the Slack messages provided, here are the most common questions being asked:\\n\\n1. Can someone help set up an account on Fivetran and AWS for the Onebeat project?\\n2. Did they approve the AWS account setup?\\n3. Can you log in with your @webeet.io email and check if you have access?\\n4. Can you see me on the team list?\\n5. Can you log in to boot.dev with your Webeet email and verify access?\\n6. Do you have full access to your @webeet.io emails?\\n7. Is there a need for an NDA for the Fivetran account setup?\\n8. Can we schedule a quick call to resolve the BigQuery connection issue?\\n9. Should we use BigQuery on GCloud for the pilot until the AWS infrastructure is set up?\\n10. Can someone help clarify the limitations on creating service accounts for BigQuery?',\n",
              " 'Based on the provided Slack messages, here are the common questions being asked:\\n\\n1. How can we connect the Fivetran account to our data systems without exposing our database credentials?\\n2. Do we need to use a separate Gmail account for Fivetran purposes?\\n3. What metrics and parameters are we missing in the document for the client meeting?\\n4. Are there any shared accounts or resources, such as DataCamp, that we can use?\\n5. How should we handle freelancing and tax registration in Germany?\\n6. What are some tips for dealing with Git merge conflicts efficiently?\\n7. What tools can help improve productivity and workflow for the team?\\n8. How should we prepare Zendesk data for clients to interact with?\\n9. Are there any updates on the progress of the Boot.dev courses?\\n10. Can someone join the meeting or provide assistance during specific times?',\n",
              " '1. What are the first metrics we are choosing for analysis?\\n2. Can you share access to the page when you have time?\\n3. Can you describe again exactly what we should write in AI tools? Are these LLMs that we would like to use, or is this more in the direction of ML, or perhaps something completely different?\\n4. How are we doing with tasks? Any help needed from my side?\\n5. Do you need me to grant you any rights to impose the policy?\\n6. Can you check if the sensitive data is hidden now?\\n7. Can you check whether the sensitive data is hidden now?\\n8. Can we try tomorrow, right after our weekly, or at 1 pm JLM (12 pm CET)?\\n9. Can you check if webeet.io can work directly with the cooperative mentioned?\\n10. Is there someone who can take my place on the 13th for the workshop?',\n",
              " '1. Does your regex run automatically on every query now in the background?\\n2. Which metric are you choosing for analysis?\\n3. Which branch should we pull? Should we run `git pull origin main`, or is there a `git pull origin development` branch we should be working from?\\n4. Have you added me to the repo yet? I haven’t received any updates on it.\\n5. How can we verify there are zero hallucinations in prompts and manual checking for the LLM version?',\n",
              " '1. How can I get help with paying taxes and health insurance?\\n2. How do I clarify my freelancer or legal status for contracts and tax obligations?\\n3. What documents do I need to prepare for tax clarification?\\n4. How can I access the workspace or resolve issues with invitations?\\n5. How do I configure and use the Doppler CLI for development?\\n6. What steps should I take if I encounter errors while running scripts (e.g., `dev` vs. `start`)?\\n7. How do self-healing systems work?\\n8. What are the main topics to cover for async programming and Git utilities?\\n9. How do I submit an article for the website and what are the benefits?',\n",
              " '1. Has anyone managed to use the Claud AI [NAME HIDDEN] on an iPhone?\\n2. Does anyone have schedule conflicts with the daily meeting time at 9:00 AM CET?\\n3. If I want to analyze the last three months, how do I do that with the given data?\\n4. How do I transform Unix timestamps into a regular date format in the provided data?\\n5. How can we ensure that sensitive information is not exposed when using Slack and other platforms?\\n6. Can someone verify the subscription validity for Datacamp and Masterschool?\\n7. How do I work with a local CSV file using SQL queries in a Python environment?',\n",
              " \"1. Why is a specific feature or tool not working for some users, and could it be related to their region?\\n2. How should one approach creating and publishing articles on the website?\\n3. What are the steps and best practices for using Git, particularly regarding rebase and merge issues?\\n4. How can one resolve issues with the Doppler CLI when environment variables are not being received?\\n5. What are the details and updates regarding Udemy and ChatGPT subscriptions?\\n6. How can someone contact or get help with the Masterschool's program in Germany?\\n7. What are the best practices for writing tests and learning to code independently?\\n8. How to resolve issues when pushing to a Git repository after a rebase?\\n9. Is there anyone available to answer questions about a specific program or funding opportunities?\\n10. How can one create an API key and integrate it with different platforms like Notion, Slack, or Jira?\",\n",
              " '1. Can someone share the Zoom link for the meeting? Some participants only received a Google Meet link.\\n2. What is the session about, and how long will it last?\\n3. Would you like us to create a visual representation of the data/calculations discussed?\\n4. Should we have a meeting tomorrow morning?\\n5. What would you, in a perfect world where we could track everything at any moment, be able to track from people to find out what is keeping them from doing what they actually want and benefit them long term?\\n6. Do you know about any interesting studies or other content related to tracking personal progress and benefits?',\n",
              " '1. Do we want to collect old data too, or should we start collecting from the day they give us access?\\n2. Where are we meeting today?\\n3. Do we have another meeting this week?\\n4. Do you feel like the format we created in the notion database is self-explanatory, or do you want to meet today and discuss it?\\n5. Should the `env` `var` for localhost be named `CLIENT_BASE` to keep consistent with naming conventions across the project?\\n6. How are the tables related in the Fivetran calculations and aggregations?',\n",
              " '1. Can somebody explain what kind of content is masked by [QUOTED TEXT HIDDEN]?\\n2. Is there any route to check connect/disconnect functionality from the frontend?\\n3. Can you please give access to sensitive columns for all team members?\\n4. What are the `.env` keys used in the server?',\n",
              " '1. How should I handle the contract and registration with the Finanzamt if I was on Jobcenter before this job?\\n2. Does anyone have good practical knowledge of Airtable?\\n3. When does my DataCamp subscription expire, and do I already have a subscription?\\n4. How can I work with SQL queries to analyze a CSV file, and what programs or platforms should I use?\\n5. If I need descriptions in the task or any help, who should I contact?\\n6. How should I split KPI metrics for analysis, and who should attend the meeting about KPI metrics?\\n7. Can someone volunteer to check the masked data before the call with Yair and Doron?']"
            ]
          },
          "execution_count": 149,
          "metadata": {},
          "output_type": "execute_result"
        }
      ],
      "source": [
        "faq_b300 = batch_messages(team_slack, column='masked_text')\n",
        "faq_b300"
      ]
    },
    {
      "cell_type": "markdown",
      "metadata": {
        "id": "5qL9s4YrZaY2"
      },
      "source": [
        "### Merge b100 and b300 results\n",
        "\n",
        "Combining the results of batch size 100 and batch size 300 into a single, balanced summary. This allows the LLM to merge the high-level themes from batch 300 with the more detailed breakdown from batch 100, resulting in a structured but not overly detailed summary."
      ]
    },
    {
      "cell_type": "code",
      "execution_count": null,
      "metadata": {
        "id": "maauEEHvZevc"
      },
      "outputs": [],
      "source": [
        "def merge_summaries(faq_b100, faq_b300, model=\"gpt-4o\"):\n",
        "    \"\"\"Merge and refine the two batch summaries into a single, balanced list.\"\"\"\n",
        "\n",
        "    prompt = f\"\"\"\n",
        "    You are analyzing two summaries of common Slack discussions focussing on common questions raised:\n",
        "\n",
        "    1. **The first summary (Batch 300)** is a high-level overview of the most recurring questions.\n",
        "    2. **The second summary (Batch 100)** is a more detailed breakdown of different questions.\n",
        "\n",
        "    Your task is to merge these into a **single, refined summary** that:\n",
        "    - Keeps the most important topics and questions from Batch 300.\n",
        "    - Retains useful details from Batch 100 without excessive repetition.\n",
        "    - Ensures topics are **not too broad, but also not overly detailed**.\n",
        "    - Groups similar questions together.\n",
        "    - Avoids listing redundant information.\n",
        "\n",
        "    Here are the summaries:\n",
        "\n",
        "    **Batch 300 Summary:**\n",
        "    {faq_b300}\n",
        "\n",
        "    **Batch 100 Summary:**\n",
        "    {faq_b100}\n",
        "\n",
        "    Please return the merged summary in a structured format with grouped categories.\n",
        "    \"\"\"\n",
        "\n",
        "    # client = openai.OpenAI(api_key=\"your-api-key-here\")  # Ensure API key is set\n",
        "\n",
        "    response = client.chat.completions.create(\n",
        "        model=model,\n",
        "        messages=[{\"role\": \"system\", \"content\": \"You are an AI expert at refining and merging topic summaries.\"},\n",
        "                  {\"role\": \"user\", \"content\": prompt}],\n",
        "        temperature=0.3  # Keep it structured and deterministic\n",
        "    )\n",
        "\n",
        "    return response.choices[0].message.content  # Extract refined summary\n"
      ]
    },
    {
      "cell_type": "code",
      "execution_count": null,
      "metadata": {
        "colab": {
          "base_uri": "https://localhost:8080/"
        },
        "id": "qKDM-aa8aAnf",
        "outputId": "17bd2f8a-edd3-4a1a-fb0f-9aa52b525cee"
      },
      "outputs": [
        {
          "name": "stdout",
          "output_type": "stream",
          "text": [
            "**Merged Summary of Common Slack Discussions**\n",
            "\n",
            "**1. Meeting Schedules & Availability**\n",
            "- What time works best for team meetings and individual 1-1 sessions?\n",
            "- Can we schedule a 1-1 session?\n",
            "- Is there a slot available to meet before our scheduled call?\n",
            "- When is the next team meeting or call scheduled, and who should attend?\n",
            "- Please let me know if the proposed time works for you.\n",
            "- Can someone share the Zoom link for the meeting?\n",
            "- Is there a record of the meeting to take a look at?\n",
            "- Should we have a meeting tomorrow morning?\n",
            "\n",
            "**2. API Access & Authentication**\n",
            "- How do I obtain OAuth credentials for API access?\n",
            "- What permissions are required to authenticate via the API?\n",
            "- How do I troubleshoot OAuth authentication failures?\n",
            "- Is there any update or issue with the integration of specific tools or APIs (e.g., OAuth setup)?\n",
            "- Do you have any questions on your personal API research or need further assistance?\n",
            "\n",
            "**3. Debugging & Technical Issues**\n",
            "- How do I resolve an SSL protocol error?\n",
            "- What’s the best way to debug OAuth authentication issues?\n",
            "- How do I fix issues with database connections?\n",
            "- Are there any technical issues or conflicts (e.g., server conflict, OAuth interface) that need to be resolved?\n",
            "- Can someone help clarify the limitations on creating service accounts for BigQuery?\n",
            "\n",
            "**4. Project Management & Task Coordination**\n",
            "- How should we organize project tasks in Notion?\n",
            "- What is the best practice for managing Git branches?\n",
            "- How do we handle merging conflicts effectively?\n",
            "- Have you scheduled a meeting to review your resumes and LinkedIn profiles?\n",
            "- Can you provide feedback or thoughts on joining MindGuard for the newsletter?\n",
            "- How is the experience using Asana for documentation, and are there any suggestions for improvement?\n",
            "\n",
            "**5. Access & Permissions**\n",
            "- Do you have full access to your @webeet.io emails?\n",
            "- Can you log in with your @webeet.io email and check if you have access?\n",
            "- Did you receive the invitation to join the new workspace or platform (e.g., Asana, MongoDB)?\n",
            "- Can we lift the restriction on creating keys for service accounts in [NAME HIDDEN] Platform?\n",
            "\n",
            "**6. Professional Development & Networking**\n",
            "- What stack of technologies did you use at Masterschool, and what additional skills have you gathered?\n",
            "- Can you add your new position on LinkedIn and connect with the team?\n",
            "- How can we use networking to our advantage?\n",
            "\n",
            "**7. Documentation & Resources**\n",
            "- Should the information from official documents be documented here or elsewhere?\n",
            "- Where can we find the summary and action items you prepared?\n",
            "- What should be included in a pull request description to ensure clarity and completeness?\n",
            "\n",
            "**8. Tools & Subscriptions**\n",
            "- Does anyone have good practical knowledge of Airtable?\n",
            "- When does your Datacamp subscription expire?\n",
            "- Please let me know if you haven't received access to GCP.\n",
            "- Make sure that you have access to ChatGPT Pro and [NAME HIDDEN]. Those who haven't, please let me know in the thread.\n",
            "\n",
            "This summary consolidates the most important topics and questions from both batches, ensuring a balance between high-level overviews and detailed breakdowns.\n"
          ]
        }
      ],
      "source": [
        "merged_faqs = merge_summaries(faq_b100, faq_b300)"
      ]
    },
    {
      "cell_type": "markdown",
      "metadata": {
        "id": "doVC29MCavCk"
      },
      "source": [
        "# Summary of results"
      ]
    },
    {
      "cell_type": "code",
      "execution_count": null,
      "metadata": {
        "colab": {
          "base_uri": "https://localhost:8080/"
        },
        "id": "aB4RTl5Way5b",
        "outputId": "2c98eeca-d51f-41bc-850b-764f7068c86a"
      },
      "outputs": [
        {
          "name": "stdout",
          "output_type": "stream",
          "text": [
            "**Merged Summary of Common Slack Discussions**\n",
            "\n",
            "**1. Meeting Schedules & Availability**\n",
            "- What time works best for team meetings and individual 1-1 sessions?\n",
            "- Can we schedule a 1-1 session?\n",
            "- Is there a slot available to meet before our scheduled call?\n",
            "- When is the next team meeting or call scheduled, and who should attend?\n",
            "- Please let me know if the proposed time works for you.\n",
            "- Can someone share the Zoom link for the meeting?\n",
            "- Is there a record of the meeting to take a look at?\n",
            "- Should we have a meeting tomorrow morning?\n",
            "\n",
            "**2. API Access & Authentication**\n",
            "- How do I obtain OAuth credentials for API access?\n",
            "- What permissions are required to authenticate via the API?\n",
            "- How do I troubleshoot OAuth authentication failures?\n",
            "- Is there any update or issue with the integration of specific tools or APIs (e.g., OAuth setup)?\n",
            "- Do you have any questions on your personal API research or need further assistance?\n",
            "\n",
            "**3. Debugging & Technical Issues**\n",
            "- How do I resolve an SSL protocol error?\n",
            "- What’s the best way to debug OAuth authentication issues?\n",
            "- How do I fix issues with database connections?\n",
            "- Are there any technical issues or conflicts (e.g., server conflict, OAuth interface) that need to be resolved?\n",
            "- Can someone help clarify the limitations on creating service accounts for BigQuery?\n",
            "\n",
            "**4. Project Management & Task Coordination**\n",
            "- How should we organize project tasks in Notion?\n",
            "- What is the best practice for managing Git branches?\n",
            "- How do we handle merging conflicts effectively?\n",
            "- Have you scheduled a meeting to review your resumes and LinkedIn profiles?\n",
            "- Can you provide feedback or thoughts on joining MindGuard for the newsletter?\n",
            "- How is the experience using Asana for documentation, and are there any suggestions for improvement?\n",
            "\n",
            "**5. Access & Permissions**\n",
            "- Do you have full access to your @webeet.io emails?\n",
            "- Can you log in with your @webeet.io email and check if you have access?\n",
            "- Did you receive the invitation to join the new workspace or platform (e.g., Asana, MongoDB)?\n",
            "- Can we lift the restriction on creating keys for service accounts in [NAME HIDDEN] Platform?\n",
            "\n",
            "**6. Professional Development & Networking**\n",
            "- What stack of technologies did you use at Masterschool, and what additional skills have you gathered?\n",
            "- Can you add your new position on LinkedIn and connect with the team?\n",
            "- How can we use networking to our advantage?\n",
            "\n",
            "**7. Documentation & Resources**\n",
            "- Should the information from official documents be documented here or elsewhere?\n",
            "- Where can we find the summary and action items you prepared?\n",
            "- What should be included in a pull request description to ensure clarity and completeness?\n",
            "\n",
            "**8. Tools & Subscriptions**\n",
            "- Does anyone have good practical knowledge of Airtable?\n",
            "- When does your Datacamp subscription expire?\n",
            "- Please let me know if you haven't received access to GCP.\n",
            "- Make sure that you have access to ChatGPT Pro and [NAME HIDDEN]. Those who haven't, please let me know in the thread.\n",
            "\n",
            "This summary consolidates the most important topics and questions from both batches, ensuring a balance between high-level overviews and detailed breakdowns.\n"
          ]
        }
      ],
      "source": [
        "print(merged_faqs)"
      ]
    },
    {
      "cell_type": "markdown",
      "metadata": {
        "id": "umrtl92gu_g4"
      },
      "source": [
        "# Notion Integration"
      ]
    },
    {
      "cell_type": "code",
      "execution_count": null,
      "metadata": {
        "id": "ursK_Eb-vD33"
      },
      "outputs": [],
      "source": [
        "# pip install notion-client"
      ]
    },
    {
      "cell_type": "code",
      "execution_count": null,
      "metadata": {
        "id": "I83dJKrmxWwX"
      },
      "outputs": [],
      "source": [
        "from notion_client import Client\n",
        "import os\n",
        "\n",
        "# --- SETUP: Replace with your credentials ---\n",
        "NOTION_API_KEY = \"insert_your_Notion_api_key\"  # Replace with your API key\n",
        "NOTION_PAGE_ID = \"1afd8cbfdbfd80279fa5c9200855c19b\"  # Replace with the Notion Page ID\n",
        "\n",
        "# --- Initialize Notion Client ---\n",
        "notion = Client(auth=NOTION_API_KEY)"
      ]
    },
    {
      "cell_type": "code",
      "execution_count": null,
      "metadata": {
        "colab": {
          "base_uri": "https://localhost:8080/"
        },
        "id": "BmuKmrqxyY9o",
        "outputId": "4746186b-e0fd-475d-d61c-063071ba3067"
      },
      "outputs": [
        {
          "name": "stdout",
          "output_type": "stream",
          "text": [
            "✅ Data successfully added to Notion!\n"
          ]
        }
      ],
      "source": [
        "# --- Function to Split Long Text into Chunks ---\n",
        "\n",
        "import textwrap\n",
        "\n",
        "def split_into_chunks(text, max_length=2000):\n",
        "    \"\"\"Splits a long text into chunks of max_length characters\"\"\"\n",
        "    return textwrap.wrap(text, max_length, break_long_words=False, replace_whitespace=False)\n",
        "\n",
        "# --- Function to Add Content to Notion Page ---\n",
        "def add_content_to_notion(title, content, page_id):\n",
        "    \"\"\"Uploads formatted text to a Notion page, ensuring content is split into multiple blocks\"\"\"\n",
        "\n",
        "    # Create heading block\n",
        "    blocks = [\n",
        "        {\n",
        "            \"object\": \"block\",\n",
        "            \"type\": \"heading_2\",\n",
        "            \"heading_2\": {\n",
        "                \"rich_text\": [{\"type\": \"text\", \"text\": {\"content\": title}}]\n",
        "            },\n",
        "        }\n",
        "    ]\n",
        "\n",
        "    # Split content into chunks and add each as a paragraph block\n",
        "    chunks = split_into_chunks(content, max_length=2000)\n",
        "    for chunk in chunks:\n",
        "        blocks.append(\n",
        "            {\n",
        "                \"object\": \"block\",\n",
        "                \"type\": \"paragraph\",\n",
        "                \"paragraph\": {\n",
        "                    \"rich_text\": [{\"type\": \"text\", \"text\": {\"content\": chunk}}]\n",
        "                },\n",
        "            }\n",
        "        )\n",
        "\n",
        "    # Append to Notion page\n",
        "    notion.blocks.children.append(page_id, children=blocks)\n",
        "\n",
        "# --- Upload to Notion ---\n",
        "add_content_to_notion(\"📌 Common Questions Raised in Slack\", merged_faqs, NOTION_PAGE_ID)\n",
        "\n",
        "print(\"✅ Data successfully added to Notion!\")"
      ]
    }
  ],
  "metadata": {
    "colab": {
      "provenance": [],
      "toc_visible": true
    },
    "kernelspec": {
      "display_name": "Python 3",
      "name": "python3"
    },
    "language_info": {
      "codemirror_mode": {
        "name": "ipython",
        "version": 3
      },
      "file_extension": ".py",
      "mimetype": "text/x-python",
      "name": "python",
      "nbconvert_exporter": "python",
      "pygments_lexer": "ipython3",
      "version": "3.12.4"
    }
  },
  "nbformat": 4,
  "nbformat_minor": 0
}
