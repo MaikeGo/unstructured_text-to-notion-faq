{
  "cells": [
    {
      "cell_type": "markdown",
      "metadata": {
        "id": "9d2do3n4JqpI"
      },
      "source": [
        "# Overview\n",
        "\n",
        "This project uses an LLM (via the OpenAI API) to extract commonly asked questions from unstructured text data and automatically creates a Notion page (via the Notion API) to document them.\n",
        "\n",
        "The Slack message data used in this example was originally extracted using **Fivetran**.  However, the code is **designed to work with any text-based message data**. You can adapt it easily to any dataset containing text conversations (e.g., customer chats, support tickets, forum posts).\n",
        "\n",
        "The results created by the automated Notion integration can be viewed here:  \n",
        "🔗 [View Results on Notion](https://www.notion.so/Auto-generated-FAQ-1afd8cbfdbfd80279fa5c9200855c19b)\n",
        "\n",
        "---"
      ]
    },
    {
      "cell_type": "markdown",
      "metadata": {
        "id": "1HcLWj0WfHp_"
      },
      "source": [
        "# Requirements\n",
        "\n",
        "To run this notebook, you will need:\n",
        "\n",
        "- A database or file containing the text message data you want to analyze.\n",
        "- In this example, Slack message data (`team_slack`) is loaded from **Google Drive**.  \n",
        "  ➔ You will need to replace this part with your own data loading method, depending on where your messages are stored (e.g., local file, database, or cloud storage).\n",
        "- An **OpenAI API key** for processing and summarizing your text data.\n",
        "- A **Notion API integration**, which provides you with a Notion \"secret\" (your Notion API key), for automatically exporting the results to Notion.\n",
        "- An empty **Notion page** to export your results to.\n",
        "\n",
        "👉 **Important:**  \n",
        "- You must have a **billed OpenAI account** (free-tier accounts without billing enabled cannot use the API).\n",
        "- Running this notebook will **incur API costs** based on the number of tokens processed.  \n",
        "  Costs depend on the size of your message dataset and the OpenAI model you use.\n",
        "- You can create and manage your OpenAI API key here: [https://platform.openai.com/api-keys](https://platform.openai.com/api-keys)\n",
        "\n",
        "- You can create a **Notion integration** here: [https://www.notion.so/my-integrations](https://www.notion.so/my-integrations).  \n",
        "  After creating the integration, copy your **Internal Integration Token** (the Notion secret/API key), and  \n",
        "  ➔ **share the target Notion page** with your integration to give it the necessary permissions.\n",
        "\n",
        "Please make sure you have both API keys ready before running the code.  \n",
        "You can set them securely as environment variables (recommended) or insert them directly into the code (not recommended for shared environments).\n",
        "\n",
        "Example environment variables:\n",
        "- `OPENAI_API_KEY`\n",
        "- `NOTION_API_KEY`\n",
        "---"
      ]
    },
    {
      "cell_type": "markdown",
      "source": [
        "# **Cost Estimate**\n",
        "\n",
        "Running this code on approximately 2,000 text messages using the OpenAI `gpt-4o` model cost me less than **$1** in API usage.\n",
        "\n",
        "👉 **Important:** Actual costs will vary depending on:\n",
        "- The total number of tokens processed — which depends heavily on **how many messages** you process and **how long each message is** (more text = more tokens).\n",
        "- The model used (e.g., GPT-4o is cheaper than GPT-4-turbo).\n",
        "\n",
        "🛡️ **Tip:**  \n",
        "To control spending, you can disable \"Auto-recharge\" in your OpenAI billing settings and/or set a usage limit.  \n",
        "Always monitor your usage in the [OpenAI usage dashboard](https://platform.openai.com/usage) to avoid unexpected charges.\n"
      ],
      "metadata": {
        "id": "PDPasz20MMRI"
      }
    },
    {
      "cell_type": "markdown",
      "metadata": {
        "id": "U30hmVKvhQNl"
      },
      "source": [
        "# A Note on Batch Size and Temperature\n",
        "\n",
        "Batch size and temperature are parameters set inside the LLM function to control how the messages are processed and how consistent or creative the model's responses are.\n",
        "\n",
        "\n",
        "### 1️⃣ Batch Size: Affects Context and Accuracy\n",
        "\n",
        "**What It Does:**\n",
        "\n",
        "* Determines how many messages are processed in a single LLM call.\n",
        "* Larger batches provide more context, allowing the model to find recurring themes more effectively.\n",
        "* Smaller batches may miss broader patterns because the LLM sees less data at once.\n",
        "\n",
        "**Impact of Batch Size:**\n",
        "\n",
        "| Batch Size | Pros | Cons |\n",
        "|------------|---------------------------------|------------------------------------------------|\n",
        "| **Small (e.g., 10-20 messages per batch)** | Faster responses, easier error handling | Less context, less effective at spotting trends |\n",
        "| **Medium (e.g., 50-100 messages per batch, default)** | Balance of context and performance | Still may not catch all patterns |\n",
        "| **Large (e.g., 200+ messages per batch)** | More context, better at summarization | Slower response, might hit token limits |\n",
        "\n",
        "**Best Practice Summary for Batch Size:**\n",
        "\n",
        "* ✅ Use medium or large batch sizes (50-200 messages per batch)\n",
        "* ✅ If patterns aren't emerging, try increasing the batch size so the model sees more context.\n",
        "* ✅ If API calls are slow or expensive, reduce batch size to process in chunks.\n",
        "\n",
        "<br>\n",
        "\n",
        "> **Approach Chosen In This Case: Combine batch 100 & batch 300 results**\n",
        ">\n",
        "> Combining the results of batch size 100 and batch size 300 into a single, balanced summary, using LLM. This allows the LLM to merge the high-level themes from batch 300 with the more detailed breakdown from batch 100, resulting in a structured but not overly detailed summary.\n",
        "\n",
        "### 2️⃣ Temperature: Affects Consistency vs. Creativity\n",
        "\n",
        "**What It Does:**\n",
        "\n",
        "* Controls how random or deterministic the responses are.\n",
        "* Lower values (0.1 - 0.3) → More consistent, structured, and predictable outputs.\n",
        "* Higher values (0.7 - 1.0) → More creative, diverse, and sometimes inconsistent results.\n",
        "\n",
        "**Impact of Temperature:**\n",
        "\n",
        "| Temperature | Behavior | Use Case |\n",
        "|-------------|-----------------------------------|------------------------------------------------------------|\n",
        "| **0.1 - 0.3** | Consistent, structured, focused | Best for summaries, factual outputs, and categorization |\n",
        "| **0.4 - 0.6** | Some variation, slight randomness | Good for brainstorming alternative groupings |\n",
        "| **0.7 - 1.0** | Highly creative, less structured | Best for generating unique ideas, but not for structured summarization |\n",
        "\n",
        "\n",
        "**Best Practice Summary for Temperature settings:**\n",
        "\n",
        "* ✅ Use a low temperature (0.2 - 0.3) to get a clear, structured summary.\n",
        "* ✅ If the model's output is too rigid, try increasing the temperature slightly (0.4 - 0.5).\n",
        "* ✅ If the output is too chaotic or inconsistent, lower the temperature to 0.1 - 0.2.\n"
      ]
    },
    {
      "cell_type": "markdown",
      "metadata": {
        "id": "-u2Ifdt_e2cn"
      },
      "source": [
        "# Here Comes the Code"
      ]
    },
    {
      "cell_type": "markdown",
      "metadata": {
        "id": "ZjTc-lBmJqpL"
      },
      "source": [
        "## Import necessary libraries"
      ]
    },
    {
      "cell_type": "code",
      "execution_count": null,
      "metadata": {
        "id": "tRtYxTaxJBbx"
      },
      "outputs": [],
      "source": [
        "# Install the OpenAI Python package if you haven't already\n",
        "# (You can run this in your terminal or notebook once)\n",
        "# pip install openai\n",
        "\n",
        "# Import necessary libraries\n",
        "import openai  # For interacting with the OpenAI API\n",
        "import pandas as pd  # For working with tabular data (e.g., storing and processing messages)\n",
        "import os  # For accessing environment variables (e.g., loading the OpenAI API key) and handling file paths"
      ]
    },
    {
      "cell_type": "markdown",
      "metadata": {
        "id": "FAwQ4O2cJX-A"
      },
      "source": [
        "## Set Up LLM Access (OpenAI)"
      ]
    },
    {
      "cell_type": "code",
      "execution_count": null,
      "metadata": {
        "id": "xNoX10VQJMJO"
      },
      "outputs": [],
      "source": [
        "os.environ[\"OPENAI_API_KEY\"] = \"insert_your_openai_api_key\" # Insert your OpenAI api key here\n",
        "\n",
        "client = openai.OpenAI(api_key=os.getenv(\"OPENAI_API_KEY\"))"
      ]
    },
    {
      "cell_type": "markdown",
      "metadata": {
        "id": "wHApePi9Jaqb"
      },
      "source": [
        "## Load the message data\n",
        "\n",
        "⚡ Note: In this example, the Slack messages (\"team_slack\") are loaded from Google Drive.\n",
        "\n",
        "Replace this with your own data loading method if your messages are stored elsewhere (e.g., local CSV, database query, other cloud storage).\n"
      ]
    },
    {
      "cell_type": "code",
      "execution_count": null,
      "metadata": {
        "colab": {
          "base_uri": "https://localhost:8080/"
        },
        "id": "cfxf4B79KJz6",
        "outputId": "933a5b62-b852-4984-fa6d-4e74785b9dd3"
      },
      "outputs": [
        {
          "output_type": "stream",
          "name": "stdout",
          "text": [
            "Mounted at /content/drive\n"
          ]
        }
      ],
      "source": [
        "from google.colab import drive\n",
        "drive.mount('/content/drive')"
      ]
    },
    {
      "cell_type": "code",
      "execution_count": null,
      "metadata": {
        "id": "EamVRWWeJrz4"
      },
      "outputs": [],
      "source": [
        "file_path = \"/content/drive/My Drive/data/team_slack_20250224.csv\"\n",
        "team_slack = pd.read_csv(file_path)"
      ]
    },
    {
      "cell_type": "code",
      "execution_count": null,
      "metadata": {
        "colab": {
          "base_uri": "https://localhost:8080/"
        },
        "id": "Za4XCgMlKTjz",
        "outputId": "fa56a185-7d52-461b-f140-b83ef3abe4ad"
      },
      "outputs": [
        {
          "output_type": "stream",
          "name": "stdout",
          "text": [
            "<class 'pandas.core.frame.DataFrame'>\n",
            "RangeIndex: 1864 entries, 0 to 1863\n",
            "Data columns (total 20 columns):\n",
            " #   Column              Non-Null Count  Dtype  \n",
            "---  ------              --------------  -----  \n",
            " 0   message_channel_id  1864 non-null   object \n",
            " 1   parent_message_ts   1864 non-null   float64\n",
            " 2   ts                  1864 non-null   float64\n",
            " 3   user_id             1864 non-null   object \n",
            " 4   subtype             197 non-null    object \n",
            " 5   last_read           0 non-null      float64\n",
            " 6   subscribed          291 non-null    object \n",
            " 7   source_team         0 non-null      float64\n",
            " 8   type                1864 non-null   object \n",
            " 9   team                1543 non-null   object \n",
            " 10  is_locked           291 non-null    object \n",
            " 11  edited_user         176 non-null    object \n",
            " 12  _fivetran_deleted   1864 non-null   bool   \n",
            " 13  _fivetran_synced    1864 non-null   object \n",
            " 14  edited_ts           176 non-null    float64\n",
            " 15  reply_count         291 non-null    float64\n",
            " 16  thread_ts           1586 non-null   float64\n",
            " 17  reply_users_count   291 non-null    float64\n",
            " 18  latest_reply        291 non-null    float64\n",
            " 19  masked_text         1817 non-null   object \n",
            "dtypes: bool(1), float64(9), object(10)\n",
            "memory usage: 278.6+ KB\n"
          ]
        }
      ],
      "source": [
        "team_slack.info()"
      ]
    },
    {
      "cell_type": "markdown",
      "metadata": {
        "id": "82Mh2XHLJqpM"
      },
      "source": [
        "## Preprocess data\n",
        "\n",
        "This step applies basic cleaning to the Slack messages:\n",
        "- Removes any leading or trailing spaces\n",
        "- Ensures that only valid text strings are processed (non-strings are replaced with an empty string)\n"
      ]
    },
    {
      "cell_type": "code",
      "execution_count": null,
      "metadata": {
        "id": "g8p6HCOzJURV"
      },
      "outputs": [],
      "source": [
        "# Apply the preprocessing function to the 'masked_text' column and store the cleaned text in a new column 'clean_text'\n",
        "\n",
        "\n",
        "def preprocess_text(text):\n",
        "    \"\"\"Basic cleaning of Slack messages\"\"\"\n",
        "    if isinstance(text, str):  # Ensure it's a string before processing\n",
        "        return text.strip()  # Remove leading/trailing spaces\n",
        "    return \"\"\n",
        "\n",
        "team_slack['clean_text'] = team_slack['masked_text'].apply(preprocess_text)"
      ]
    },
    {
      "cell_type": "markdown",
      "metadata": {
        "id": "oZDO2vc_NctI"
      },
      "source": [
        "## Use OpenAI to extract common questions\n"
      ]
    },
    {
      "cell_type": "markdown",
      "metadata": {
        "id": "ncqr2C8MTthe"
      },
      "source": [
        "### LLM Function and Prompt\n",
        "\n",
        "The function below sends a structured prompt to the OpenAI model (default: GPT-4o) to identify and group actual questions from a batch of Slack messages into an FAQ-style format.\n",
        "\n",
        "In the development process, I ran several versions of the prompt and gradually refined it to improve the results.\n",
        "\n",
        "The prompt was improved step-by-step to ensure:\n",
        "* ✅ Focus on extracting **actual questions** from the text (not just themes or summaries)\n",
        "* ✅ **Grouping similar questions** together into a coherent FAQ format\n",
        "* ✅ **Removing unnecessary thematic descriptions** and ensuring the questions are **clear and concise**\n",
        "\n",
        "In this cleaned-up version, only the final, optimized prompt is included."
      ]
    },
    {
      "cell_type": "code",
      "execution_count": null,
      "metadata": {
        "id": "h3Cdh0rW3KO6"
      },
      "outputs": [],
      "source": [
        "def extract_faq_questions(messages, model=\"gpt-4o\"):\n",
        "    \"\"\"Extract actual FAQ-style common questions from Slack messages\"\"\"\n",
        "\n",
        "    prompt = f\"\"\"\n",
        "You are analyzing Slack messages to extract **common recurring questions** that team members frequently ask.\n",
        "\n",
        "### **Instructions:**\n",
        "- Extract **only actual questions** (e.g., \"How do I get API access?\" instead of \"Discussing API access\").\n",
        "- Group them into **clear FAQ categories**.\n",
        "- Do **not include summaries or descriptions**—only list questions.\n",
        "- Do **not switch to general topic descriptions**—always extract full-sentence questions.\n",
        "\n",
        "### **Expected Output Format:**\n",
        "\n",
        "**1. Meeting Schedules & Availability**\n",
        "- What time works for everyone for the next team meeting?\n",
        "- Can we schedule a 1-1 session?\n",
        "- Is there a slot available to meet before our scheduled call?\n",
        "\n",
        "**2. API Access & Authentication**\n",
        "- How do I obtain OAuth credentials for API access?\n",
        "- What permissions are required to authenticate via the API?\n",
        "- How do I troubleshoot OAuth authentication failures?\n",
        "\n",
        "**3. Debugging & Technical Issues**\n",
        "- How do I resolve an SSL protocol error?\n",
        "- What's the best way to debug OAuth authentication issues?\n",
        "- How do I fix issues with database connections?\n",
        "\n",
        "**4. Project Management & Task Coordination**\n",
        "- How should we organize project tasks in Notion?\n",
        "- What is the best practice for managing Git branches?\n",
        "- How do we handle merging conflicts effectively?\n",
        "\n",
        "---\n",
        "\n",
        "**Here are the extracted Slack messages:**\n",
        "\n",
        "{messages}\n",
        "\n",
        "**Now, extract and format only direct questions under their respective categories. Do NOT include descriptions or summaries. Avoid switching to topic descriptions.**\n",
        "\n",
        "\n",
        "    \"\"\"\n",
        "\n",
        "    # client = openai.OpenAI(api_key=\"your-api-key-here\")\n",
        "\n",
        "    response = client.chat.completions.create(\n",
        "        model=model,\n",
        "        messages=[\n",
        "            {\"role\": \"system\", \"content\": \"You are an expert in identifying and structuring common questions in team discussions.\"},\n",
        "            {\"role\": \"user\", \"content\": prompt}\n",
        "        ],\n",
        "        temperature=0.3  # Ensures structured, non-random responses\n",
        "    )\n",
        "\n",
        "    return response.choices[0].message.content  # Extract the FAQ-style questions\n"
      ]
    },
    {
      "cell_type": "markdown",
      "metadata": {
        "id": "vOEWH3nXJqpN"
      },
      "source": [
        "### Run with batch size 100"
      ]
    },
    {
      "cell_type": "code",
      "execution_count": null,
      "metadata": {
        "id": "JyI11Olx3WBS"
      },
      "outputs": [],
      "source": [
        "def batch_messages_100(df, column='masked_text', batch_size=100):\n",
        "    \"\"\"Processes messages in batches and extracts common questions\"\"\"\n",
        "    questions = []\n",
        "    for i in range(0, len(df), batch_size):\n",
        "        batch = \"\\n\".join(df[column][i:i+batch_size].dropna().tolist())  # Drop NaNs before joining\n",
        "        result = extract_faq_questions(batch)\n",
        "        questions.append(result)\n",
        "    return questions"
      ]
    },
    {
      "cell_type": "code",
      "execution_count": null,
      "metadata": {
        "id": "-q70OAjd4d9J"
      },
      "outputs": [],
      "source": [
        "faq_b100 = batch_messages_100(team_slack, column='masked_text')\n"
      ]
    },
    {
      "cell_type": "code",
      "execution_count": null,
      "metadata": {
        "colab": {
          "base_uri": "https://localhost:8080/"
        },
        "id": "SGowq6Sa4pVL",
        "outputId": "73c623b5-0c24-4718-dad7-75d0e058d1e7"
      },
      "outputs": [
        {
          "output_type": "execute_result",
          "data": {
            "text/plain": [
              "[\"**1. Meeting Schedules & Availability**\\n- What time works for everyone for the next team meeting?\\n- Can we schedule a 1-1 session?\\n- Is there a slot available to meet before our scheduled call?\\n- Will 9:00 or 9:30 work for you?\\n- Please let me know what hours work for you, so that we can plan team calls according to them.\\n- What time of the day in general would you like to dedicate your Webeet hours at?\\n\\n**2. API Access & Authentication**\\n- If you have any question on your personal API research, don't hesitate to ask me here or in private messages.\\n\\n**3. Project Management & Task Coordination**\\n- Can we quickly wrap this up in a huddle?\\n- Please let me know if it’s too cheesy. I can tone it down. I’m not sure what the investors are into.\\n- Please let me know if you need a version that is more cheesed up.\",\n",
              " \"**1. Meeting Schedules & Availability**\\n- What time works for everyone for the next team meeting?\\n- Can we schedule a 1-1 session?\\n- Is there a slot available to meet before our scheduled call?\\n- Please let me know if it works for you.\\n\\n**2. API Access & Authentication**\\n- How do I obtain OAuth credentials for API access?\\n- What permissions are required to authenticate via the API?\\n- How do I troubleshoot OAuth authentication failures?\\n- Is this something you were doing?\\n\\n**3. Debugging & Technical Issues**\\n- How do I resolve an SSL protocol error?\\n- What's the best way to debug OAuth authentication issues?\\n- How do I fix issues with database connections?\\n- Did you provide the bank info in the [NAME HIDDEN] Agreement when you signed?\\n\\n**4. Project Management & Task Coordination**\\n- How should we organize project tasks in Notion?\\n- What is the best practice for managing Git branches?\\n- How do we handle merging conflicts effectively?\\n- Is this something that can help us?\\n- Does it reduce complexity?\\n- Will it speed up integration to new tools?\\n- Will it help align the data received from these APIs?\\n\\n**5. Documentation & Tools**\\n- Please let me know how your experience using Asana is and/or if you have ideas to improve.\\n\\n**6. Miscellaneous**\\n- All I need now is your hoodie size. Small, Medium, or Large?\",\n",
              " \"**1. Meeting Schedules & Availability**\\n- What time works for everyone for the next team meeting?\\n- Can we schedule a 1-1 session?\\n- Is there a slot available to meet before our scheduled call?\\n- Will 11:30 to 13:00 work for everyone?\\n- Is Monday 12-1PM ([NAME HIDDEN]) suitable for the meeting?\\n- Should I schedule with <@U07V5LLC2UR> regardless of this meeting or should this meeting cover our needs?\\n\\n**2. API Access & Authentication**\\n- How do I obtain OAuth credentials for API access?\\n- What permissions are required to authenticate via the API?\\n- How do I troubleshoot OAuth authentication failures?\\n- Just making sure before I jump on board- we're using Next.js in this project, right?\\n- Do I need to create a new Slack app to obtain the required API access token?\\n- Which option suits best for HTTP calls: `@slack/web-api` or `axios`?\\n\\n**3. Debugging & Technical Issues**\\n- How do I resolve an SSL protocol error?\\n- What's the best way to debug OAuth authentication issues?\\n- How do I fix issues with database connections?\\n- I may have reached the quota limit or there are other issues. How can I check this?\\n- Is it possible to use web-hooks instead of HTTP architecture for data fetching?\\n\\n**4. Project Management & Task Coordination**\\n- How should we organize project tasks in Notion?\\n- What is the best practice for managing Git branches?\\n- How do we handle merging conflicts effectively?\\n- Should I merge my code now and make another PR to follow the guide, or make the changes first?\\n- Can you let me know if you have any concerns about using our team’s workspace for the Slack app?\\n- Should we commit the subdirectories of integrations.asana?\\n\\n**5. Documentation & Resources**\\n- Can you let me know if you have ideas about the elements that I listed, elements that may be missing, idea of action/calculation, etc.?\\n- Do you have any questions about the database structure or the loom video?\\n- Should we add anything specific to the PR template?\",\n",
              " \"**1. Meeting Schedules & Availability**\\n- What time works for everyone for the next team meeting?\\n- Can we schedule a 1-1 session?\\n- Is there a slot available to meet before our scheduled call?\\n- Let me know if it doesn't work for you.\\n- Will 10 work for everyone?\\n- Created a meeting for tomorrow. Let me know if time doesn't work for you.\\n\\n**2. API Access & Authentication**\\n- How do I obtain OAuth credentials for API access?\\n- What permissions are required to authenticate via the API?\\n- How do I troubleshoot OAuth authentication failures?\\n- Can you give me access?\\n- Can I take the Gmail API research?\\n- Should I rename my branch before opening the PR?\\n\\n**3. Debugging & Technical Issues**\\n- How do I resolve an SSL protocol error?\\n- What's the best way to debug OAuth authentication issues?\\n- How do I fix issues with database connections?\\n- Am I missing something?\\n- What happens if you follow this link?\\n- Shouldn't we also get created_at?\\n\\n**4. Project Management & Task Coordination**\\n- How should we organize project tasks in Notion?\\n- What is the best practice for managing Git branches?\\n- How do we handle merging conflicts effectively?\\n- Can you also please add to the doc a brief table from your weighted score system?\\n- Is it ok if I just put it on the same page or should I create a new one?\\n- Can you please create a section in the doc about Reclaim?\\n\\n**5. Document & Access Issues**\\n- Can you look this up?\\n- Can you add me as an admin there and send me the link?\\n- Can you move the page here?\\n- Can you upload this to Notion?\\n\\n**6. General Inquiries**\\n- Do you have something on your mind?\\n- What else?\\n- Anything else is blocking you, guys? Anything that I am missing?\\n- How does reclaim define that?\",\n",
              " \"**1. Meeting Schedules & Availability**\\n- What time works for everyone for the next team meeting?\\n- Can we schedule a 1-1 session?\\n- Is there a slot available to meet before our scheduled call?\\n- For me, any time after 17:00 for the tea party!\\n- Are you joining us?\\n\\n**2. API Access & Authentication**\\n- How do I obtain OAuth credentials for API access?\\n- What permissions are required to authenticate via the API?\\n- How do I troubleshoot OAuth authentication failures?\\n- According to the design, should we add a functionality to change the email?\\n\\n**3. Debugging & Technical Issues**\\n- How do I resolve an SSL protocol error?\\n- What's the best way to debug OAuth authentication issues?\\n- How do I fix issues with database connections?\\n- Can you specify user's data?\\n- Is there another platform in Israel?\\n\\n**4. Project Management & Task Coordination**\\n- How should we organize project tasks in Notion?\\n- What is the best practice for managing Git branches?\\n- How do we handle merging conflicts effectively?\\n- Can you please ensure this is updated in Notion?\\n- Any open branches I can merge so I can complete the frontend?\\n\\n**5. Integration & Tools**\\n- Connect to an integration?\\n- Did you check if [NAME HIDDEN] let you use it?\\n- Please specify if and if so- which of [URL HIDDEN] scopes should be used instead of `admin`?\",\n",
              " \"**1. Meeting Schedules & Availability**\\n- What time works for everyone for the next team meeting?\\n- Can we schedule a 1-1 session?\\n- Is there a slot available to meet before our scheduled call?\\n- Can you guys help me figure out this thing?\\n\\n**2. API Access & Authentication**\\n- How do I obtain OAuth credentials for API access?\\n- What permissions are required to authenticate via the API?\\n- How do I troubleshoot OAuth authentication failures?\\n- Could you please advise on which solution we should implement?\\n- Did anyone disable the creation of keys for service account in [NAME HIDDEN] Platform?\\n- If yes, can we lift this restriction?\\n\\n**3. Debugging & Technical Issues**\\n- How do I resolve an SSL protocol error?\\n- What's the best way to debug OAuth authentication issues?\\n- How do I fix issues with database connections?\\n- Can you specify the exact page you tried to access?\\n\\n**4. Project Management & Task Coordination**\\n- How should we organize project tasks in Notion?\\n- What is the best practice for managing Git branches?\\n- How do we handle merging conflicts effectively?\\n- When is this due?\\n- Is it ok to modify the .env for one variable in Asana on Notion?\\n\\n**5. Learning & Development Resources**\\n- I heard some of you might have trouble signing into our Udemy with <mailto:[EMAIL HIDDEN]|[EMAIL HIDDEN]>. Let me know if you have any problems using our Udemy.\\n\\n**6. General Inquiries**\\n- Can you meet with Maria and help her get going?\",\n",
              " \"**1. Meeting Schedules & Availability**\\n- Can we have a quick recording of a demo when it's ready?\\n- Let me know your availability so that we can collaborate on the task.\\n- Can you join?\\n\\n**2. API Access & Authentication**\\n- How do I obtain OAuth credentials for API access?\\n- What permissions are required to authenticate via the API?\\n- How do I troubleshoot OAuth authentication failures?\\n\\n**3. Debugging & Technical Issues**\\n- How do I resolve an SSL protocol error?\\n- What's the best way to debug OAuth authentication issues?\\n- How do I fix issues with database connections?\\n- Looks like there is a bug with notion permissions. Can you check it?\\n\\n**4. Project Management & Task Coordination**\\n- How should we organize project tasks in Notion?\\n- What is the best practice for managing Git branches?\\n- How do we handle merging conflicts effectively?\\n- Should we delete the feature branches remotely?\\n- So should we make our most date code into that branch, or should we just change the branch that wants to merge to dev to be on consolidation branch?\\n- Should I merge the work we did in `feat.slack/secure-token-storage` into `consolidation-slack` or should I delete the branch?\\n- Does that mean if I find a job you'll pay me [NUMBER HIDDEN] euro?\\n- Can you let me know how to contact her or would you like to introduce her first so she is aware?\\n\\n**5. Documentation & Knowledge Sharing**\\n- Do you mean the doc we created for clients? About manual extract?\",\n",
              " \"**1. Meeting Schedules & Availability**\\n- What time works for everyone for the next team meeting?\\n- Can we schedule a 1-1 session?\\n- Is there a slot available to meet before our scheduled call?\\n- Please set a meeting I have some slots today!\\n\\n**2. Documentation & Information Sharing**\\n- Is there a record on the meeting to take a look too?\\n- Should the info from official docs be documented here or here?\\n- Where can we find the summary and action items you prepared?\\n- What's the best way to share a Notion page? I don't want to publish this page, should I move it to [NAME HIDDEN]?\\n- Can I make a copy of the report you made and try exploring [NAME HIDDEN]?\\n\\n**3. Project Management & Task Coordination**\\n- Do we have a new logical flow for admins, so we can start and build the UX/UI for it?\\n- What is the difference between publishing a Notion page or a [NAME HIDDEN]?\\n\\n**4. Technical Tools & Access**\\n- When are you going to get ChatGPT account any idea?\\n\\n**5. Networking & Professional Development**\\n- How can we use networking to our advantage?\",\n",
              " \"**1. Meeting Schedules & Availability**\\n- What time works for everyone for the next team meeting?\\n- Can we schedule a 1-1 session?\\n- Is there a slot available to meet before our scheduled call?\\n- Let me know if you have time tomorrow to fix that on a quick call together?\\n\\n**2. API Access & Authentication**\\n- How do I obtain OAuth credentials for API access?\\n- What permissions are required to authenticate via the API?\\n- How do I troubleshoot OAuth authentication failures?\\n\\n**3. Debugging & Technical Issues**\\n- How do I resolve an SSL protocol error?\\n- What's the best way to debug OAuth authentication issues?\\n- How do I fix issues with database connections?\\n- If we need to use BigQuery, we would still need to figure out the limitations on creating service accounts that's imposed on organization?\\n\\n**4. Project Management & Task Coordination**\\n- How should we organize project tasks in Notion?\\n- What is the best practice for managing Git branches?\\n- How do we handle merging conflicts effectively?\\n\\n**5. Account Access & Permissions**\\n- Do you have full access to your @webeet.io emails?\\n- Can you see me on the list?\\n- Can you log in into boot.dev with your Webeet email and see if you have access?\\n\\n**6. Data Management & Security**\\n- Was it an account set up specifically for the Fivetran account so if further probed, the details could be shared between your team/who needs access, removing a potential single point of failure?\\n- Or if not, an NDA in place?\",\n",
              " \"**1. Meeting Schedules & Availability**\\n- What time works for everyone for the next team meeting?\\n- Can we schedule a 1-1 session?\\n- Is there a slot available to meet before our scheduled call?\\n- Let me know when is the earliest you're available for a call?\\n- Can we have a meeting post 10:45 am?\\n- Do we have a shared data camp account?\\n\\n**2. API Access & Authentication**\\n- How do I obtain OAuth credentials for API access?\\n- What permissions are required to authenticate via the API?\\n- How do I troubleshoot OAuth authentication failures?\\n\\n**3. Debugging & Technical Issues**\\n- How do I resolve an SSL protocol error?\\n- What's the best way to debug OAuth authentication issues?\\n- How do I fix issues with database connections?\\n\\n**4. Project Management & Task Coordination**\\n- How should we organize project tasks in Notion?\\n- What is the best practice for managing Git branches?\\n- How do we handle merging conflicts effectively?\\n\\n**5. Freelancing & Business Registration**\\n- Do I need an academic degree to register as a freelancer in Germany?\\n- Should I register a business instead of being a freelancer?\\n- How do I obtain a tax number for freelancing in Germany?\\n- How should we prepare Zendesk data for Yair and Doron to play with?\",\n",
              " \"**1. Meeting Schedules & Availability**\\n- What time works for everyone for the next team meeting?\\n- Can we schedule a 1-1 session?\\n- Is there a slot available to meet before our scheduled call?\\n- How about meeting on Monday then, if Friday doesn't really work?\\n- Can you pls update the invite?\\n\\n**2. API Access & Authentication**\\n- Can you share access to it when you have time?\\n\\n**3. Debugging & Technical Issues**\\n- Do you need me to grant you any rights to impose the policy?\\n- Can you describe again exactly what we should write in AI tools?\\n- Can you check whether the sensitive data is hidden now?\\n\\n**4. Project Management & Task Coordination**\\n- What are we choosing as first metrics?\\n- Can you create a notion page with the content here?\\n- Let me know, what's needed from me to prepare data tomorrow before 12.\\n\\n**5. Taxation & Regulations**\\n- Can you check if <[URL HIDDEN]|webeet.io> can work directly with them?\",\n",
              " \"**1. Meeting Schedules & Availability**\\n- What time works for everyone for the next team meeting?\\n- Can we schedule a 1-1 session?\\n- Is there a slot available to meet before our scheduled call?\\n- Which branch should we pull? Should we run `git pull origin main`, or is there a `git pull origin development` branch we should be working from?\\n- Hey, is this recorded, I was on continuous meetings and my Calendar didn't notify me the meeting?\\n\\n**2. API Access & Authentication**\\n- How can we verify there are zero hallucinations in prompts and manual checking?\\n\\n**3. Debugging & Technical Issues**\\n- How do I resolve an SSL protocol error?\\n- What's the best way to debug OAuth authentication issues?\\n- How do I fix issues with database connections?\\n- How would an automated process (ATS or something similar) handle this change for the work experience period?\\n\\n**4. Project Management & Task Coordination**\\n- How should we organize project tasks in Notion?\\n- What is the best practice for managing Git branches?\\n- How do we handle merging conflicts effectively?\\n- Mayer, have you added the repo?\\n- Just checking in—have you added me to the repo yet? I haven’t received any updates on it. Let me know if you need anything from my side.\\n- Did I do git pull origin development correctly? Let me know if I did not correct. Thanks!\",\n",
              " \"**1. Meeting Schedules & Availability**\\n- What time works for everyone for the next team meeting?\\n- Can we schedule a 1-1 session?\\n- Is there a slot available to meet before our scheduled call?\\n- Can you please record the meeting?\\n- Is there a chance you have another instance of the application running?\\n\\n**2. API Access & Authentication**\\n- How do I obtain OAuth credentials for API access?\\n- What permissions are required to authenticate via the API?\\n- How do I troubleshoot OAuth authentication failures?\\n\\n**3. Debugging & Technical Issues**\\n- How do I resolve an SSL protocol error?\\n- What's the best way to debug OAuth authentication issues?\\n- How do I fix issues with database connections?\\n- Did you configure the Doppler CLI with the new login?\\n- Did you sign in with the user I gave you yesterday?\\n- Did you log in with Google?\\n- Is anyone able to fix this problem?\\n- Could you check if there’s an issue with the access or if I need to take any additional steps?\\n\\n**4. Project Management & Task Coordination**\\n- How should we organize project tasks in Notion?\\n- What is the best practice for managing Git branches?\\n- How do we handle merging conflicts effectively?\\n\\n**5. General Inquiries**\\n- I do not have an invitation to join a workspace.\\n- What are self-healing systems and how do they work?\",\n",
              " '**1. Meeting Schedules & Availability**\\n- Does anyone have schedule conflicts with the time?\\n\\n**2. API Access & Authentication**\\n(No questions found in this category)\\n\\n**3. Debugging & Technical Issues**\\n- Has anyone managed to use the Claud AI [NAME HIDDEN] on an iPhone?\\n- If I want to analyze the last three months, how do I do that?\\n\\n**4. Project Management & Task Coordination**\\n(No questions found in this category)',\n",
              " \"**1. Meeting Schedules & Availability**\\n- What time works for everyone for the next team meeting?\\n- Can we schedule a 1-1 session?\\n- Is there a slot available to meet before our scheduled call?\\n\\n**2. API Access & Authentication**\\n- How do I obtain OAuth credentials for API access?\\n- What permissions are required to authenticate via the API?\\n- How do I troubleshoot OAuth authentication failures?\\n- What does it mean to create an API key to point to a specific user?\\n\\n**3. Debugging & Technical Issues**\\n- How do I resolve an SSL protocol error?\\n- What's the best way to debug OAuth authentication issues?\\n- How do I fix issues with database connections?\\n- Has anyone else experienced an issue with Doppler CLI not receiving environment variables?\\n- Can you help with the error when trying to push after configuring git to pull.rebase?\\n\\n**4. Project Management & Task Coordination**\\n- How should we organize project tasks in Notion?\\n- What is the best practice for managing Git branches?\\n- How do we handle merging conflicts effectively?\\n- What are we using for testing, Jest?\\n- What is the best way for them to contact you?\\n\\n**5. Learning & Development**\\n- Do I need to do something specific for creating the first components and examples?\\n- What are we using, Jest?\\n- How about ChatGPT? I don't have a plus subscription yet.\\n\\n**6. Miscellaneous**\\n- Is there someone who is willing to go on a call with someone considering the Masterschool's program in Germany?\\n\",\n",
              " \"**1. Meeting Schedules & Availability**\\n- What time works for everyone for the next team meeting?\\n- Can we schedule a 1-1 session?\\n- Is there a slot available to meet before our scheduled call?\\n- Should we have a meeting tomorrow (morning)?\\n- Please let me know if time is not working for you.\\n\\n**2. API Access & Authentication**\\n- How do I obtain OAuth credentials for API access?\\n- What permissions are required to authenticate via the API?\\n- How do I troubleshoot OAuth authentication failures?\\n\\n**3. Debugging & Technical Issues**\\n- How do I resolve an SSL protocol error?\\n- What's the best way to debug OAuth authentication issues?\\n- How do I fix issues with database connections?\\n\\n**4. Project Management & Task Coordination**\\n- How should we organize project tasks in Notion?\\n- What is the best practice for managing Git branches?\\n- How do we handle merging conflicts effectively?\\n\\n**5. Tools & Software Usage**\\n- Can someone share the Zoom link here?\\n- What are you trying to build?\\n- Do you know about any interesting studies, or other content you would like to share?\\n\\n**6. General Inquiries**\\n- What is it about and for how long?\",\n",
              " \"**1. Meeting Schedules & Availability**\\n- What time works for everyone for the next team meeting?\\n- Can we schedule a 1-1 session?\\n- Is there a slot available to meet before our scheduled call?\\n- Do we have another meeting this week?\\n- Where are we meeting today?\\n\\n**2. Data Collection & Management**\\n- Do we want to collect old data too or we start collecting from the day they give us access?\\n- How are the tables related in the current data setup?\\n\\n**3. Project Management & Task Coordination**\\n- How should we organize project tasks in Notion?\\n- Do you feel like it is self-explanatory or do you want to meet today and discuss it?\\n- To keep consistent with naming conventions across the project, should it be named `CLIENT_BASE`?\\n\\n**4. Learning & Development**\\n- How's your learning going? What do you think about boot.dev? Is the quality of the courses as advertised?\\n\\n**5. Technical Issues & Debugging**\\n- How do I resolve an SSL protocol error?\\n- What's the best way to debug OAuth authentication issues?\\n- How do I fix issues with database connections?\",\n",
              " '**1. API Access & Authentication**\\n- Is there any route to check connect/disconnect functionality from the frontend?\\n- What are the `.env` keys used in the server?\\n\\n**2. Permissions & Access**\\n- Can you please give access to sensitive columns for all of the team members?',\n",
              " \"**1. Meeting Schedules & Availability**\\n- What time works for everyone for the next team meeting?\\n- Can we schedule a 1-1 session?\\n- Is there a slot available to meet before our scheduled call?\\n- Would you have time to have a quick huddle today?\\n- Whoever wants to attend a meeting in the evening about KPI metrics, please let us know!\\n\\n**2. API Access & Authentication**\\n- How do I obtain OAuth credentials for API access?\\n- What permissions are required to authenticate via the API?\\n- How do I troubleshoot OAuth authentication failures?\\n\\n**3. Debugging & Technical Issues**\\n- How do I resolve an SSL protocol error?\\n- What's the best way to debug OAuth authentication issues?\\n- How do I fix issues with database connections?\\n- How would I go about analyzing a CSV file with SQL queries?\\n- Do you use BigQuery, or which programs/platforms do you use for SQL queries?\\n\\n**4. Project Management & Task Coordination**\\n- How should we organize project tasks in Notion?\\n- What is the best practice for managing Git branches?\\n- How do we handle merging conflicts effectively?\\n- If you were on Jobcenter before this job, how did you handle the contract and registration with the Finanzamt?\\n\\n**5. Tools & Subscriptions**\\n- Does anyone have good practical knowledge of Airtable?\\n- When does your Datacamp subscription expire?\\n- Make sure that you have access to ChatGPT Pro. Those who haven't, please let me know in the thread.\\n\\n**6. Data Handling & Analysis**\\n- How do we split KPI between each other?\\n- How should we set up queries/code for manual calculations?\\n- Can someone volunteer to check how the data masking worked before the call with Yair and Doron?\"]"
            ]
          },
          "metadata": {},
          "execution_count": 10
        }
      ],
      "source": [
        "faq_b100"
      ]
    },
    {
      "cell_type": "markdown",
      "metadata": {
        "id": "6U4Bi8veWnlH"
      },
      "source": [
        "### Run with batch size 300\n",
        "\n",
        "Larger batches provide more context, allowing the model to find recurring themes more effectively."
      ]
    },
    {
      "cell_type": "code",
      "execution_count": null,
      "metadata": {
        "id": "l7vstuo0TsIa"
      },
      "outputs": [],
      "source": [
        "def batch_messages_300(df, column='masked_text', batch_size=300):\n",
        "    \"\"\"Processes messages in batches and extracts common questions\"\"\"\n",
        "    questions = []\n",
        "    for i in range(0, len(df), batch_size):\n",
        "        batch = \"\\n\".join(df[column][i:i+batch_size].dropna().tolist())  # Drop NaNs before joining\n",
        "        result = extract_faq_questions(batch)\n",
        "        questions.append(result)\n",
        "    return questions"
      ]
    },
    {
      "cell_type": "code",
      "execution_count": null,
      "metadata": {
        "colab": {
          "base_uri": "https://localhost:8080/"
        },
        "id": "YPjvmVzl-PHM",
        "outputId": "2577ef6f-cb6e-4073-8379-fdacfb4d73db"
      },
      "outputs": [
        {
          "output_type": "execute_result",
          "data": {
            "text/plain": [
              "[\"**1. Meeting Schedules & Availability**\\n- What time works for everyone for the next team meeting?\\n- Can we schedule a 1-1 session?\\n- Is there a slot available to meet before our scheduled call?\\n- Will 9:00 or 9:30 work for you?\\n- Please let me know what hours work for you, so that we can plan team calls according to them.\\n- What time works for you so we can schedule a call?\\n- Should we schedule a meeting for tomorrow?\\n\\n**2. API Access & Authentication**\\n- How do I obtain OAuth credentials for API access?\\n- What permissions are required to authenticate via the API?\\n- How do I troubleshoot OAuth authentication failures?\\n- Is it something you were doing?\\n- Did you provide the bank info in the [NAME HIDDEN] Agreement when you signed?\\n- How do I connect with [NAME HIDDEN] API best when we use Next.js and Node.js?\\n- Should I just use one API to test the tokens or any data in particular that you need?\\n- What is the best way to create integration, and they have Asana, Slack, and [NAME HIDDEN] built-in support?\\n- Is there any issue with the current setup?\\n- Can you clarify which ones should be implemented?\\n- Is <[URL HIDDEN] [NAME HIDDEN]> suitable?\\n- Should we use web-hooks to streamline the data from each platform as it is being created?\\n\\n**3. Debugging & Technical Issues**\\n- How do I resolve an SSL protocol error?\\n- What's the best way to debug OAuth authentication issues?\\n- How do I fix issues with database connections?\\n- Did you reach a limit?\\n- Can you help me with the setup for Slack integration?\\n- Is there a problem with the server conflict?\\n- Can you check if the connection information in the OAuth interface from Google is correct?\\n\\n**4. Project Management & Task Coordination**\\n- How should we organize project tasks in Notion?\\n- What is the best practice for managing Git branches?\\n- How do we handle merging conflicts effectively?\\n- Should I merge my code and make another PR to follow this guide?\\n- Should I schedule with <@U07V5LLC2UR> regardless of this meeting or should this meeting cover our needs?\\n- Is it okay if I merge it and make another PR to follow this guide?\\n- Can you provide the agenda for this meeting?\\n- Should we move back to Notion for documentation?\\n\\n**5. General Inquiries**\\n- What do you think about the MindGuard in a style of the message above?\\n- Can you let me know if it’s too cheesy?\",\n",
              " \"**1. Meeting Schedules & Availability**\\n- What time works for everyone for the next team meeting?\\n- Can we schedule a 1-1 session?\\n- Is there a slot available to meet before our scheduled call?\\n\\n**2. API Access & Authentication**\\n- How do I obtain OAuth credentials for API access?\\n- What permissions are required to authenticate via the API?\\n- How do I troubleshoot OAuth authentication failures?\\n- Can you give me access?\\n- Can I take the Gmail API research?\\n\\n**3. Debugging & Technical Issues**\\n- How do I resolve an SSL protocol error?\\n- What's the best way to debug OAuth authentication issues?\\n- How do I fix issues with database connections?\\n- Am I missing something?\\n- Can you specify user's data?\\n- Can you specify the exact page you tried to access?\\n- Did anyone disable the creation of keys for service account in [NAME HIDDEN] Platform?\\n- Can we lift this restriction?\\n\\n**4. Project Management & Task Coordination**\\n- How should we organize project tasks in Notion?\\n- What is the best practice for managing Git branches?\\n- How do we handle merging conflicts effectively?\\n- Should I rename my branch before opening the PR?\\n- What else?\\n- Shouldn't we also get created_at?\\n- Can you add me as an admin there and send me the link?\\n- Can you meet with Maria and help her get going?\\n- Did you guys figure it out?\\n- Can you please ensure this is updated in Notion?\\n- Can you please create section in the doc about Reclaim?\\n- Can you check your @webeet mail? Did you get the gift card?\\n- Can you move the page here?\\n- Can you request a review?\\n- Could you please advise on which solution we should implement?\\n- Can you please add to the doc a brief table from your weighted score system?\\n- Can you please specify if and if so- which of [URL HIDDEN] scopes should be used instead of `admin`?\\n- Can you please ensure this is updated in Notion?\\n- Can you please add to your `.env` file?\\n- Can you please ensure this is updated in Notion?\\n- Can you please ensure this is updated in Notion?\\n- Can you please ensure this is updated in Notion?\\n- Can you please ensure this is updated in Notion?\\n- Can you please ensure this is updated in Notion?\\n- Can you please ensure this is updated in Notion?\\n- Can you please ensure this is updated in Notion?\\n- Can you please ensure this is updated in Notion?\\n- Can you please ensure this is updated in Notion?\\n- Can you please ensure this is updated in Notion?\\n- Can you please ensure this is updated in Notion?\\n- Can you please ensure this is updated in Notion?\\n- Can you please ensure this is updated in Notion?\\n- Can you please ensure this is updated in Notion?\\n- Can you please ensure this is updated in Notion?\\n- Can you please ensure this is updated in Notion?\\n- Can you please ensure this is updated in Notion?\\n- Can you please ensure this is updated in Notion?\\n- Can you please ensure this is updated in Notion?\\n- Can you please ensure this is updated in Notion?\\n- Can you please ensure this is updated in Notion?\\n- Can you please ensure this is updated in Notion?\\n- Can you please ensure this is updated in Notion?\\n- Can you please ensure this is updated in Notion?\\n- Can you please ensure this is updated in Notion?\\n- Can you please ensure this is updated in Notion?\\n- Can you please ensure this is updated in Notion?\\n- Can you please ensure this is updated in Notion?\\n- Can you please ensure this is updated in Notion?\\n- Can you please ensure this is updated in Notion?\\n- Can you please ensure this is updated in Notion?\\n- Can you please ensure this is updated in Notion?\\n- Can you please ensure this is updated in Notion?\\n- Can you please ensure this is updated in Notion?\\n- Can you please ensure this is updated in Notion?\\n- Can you please ensure this is updated in Notion?\\n- Can you please ensure this is updated in Notion?\\n- Can you please ensure this is updated in Notion?\\n- Can you please ensure this is updated in Notion?\\n- Can you please ensure this is updated in Notion?\\n- Can you please ensure this is updated in Notion?\\n- Can you please ensure this is updated in Notion?\\n- Can you please ensure this is updated in Notion?\\n- Can you please ensure this is updated in Notion?\\n- Can you please ensure this is updated in Notion?\\n- Can you please ensure this is updated in Notion?\\n- Can you please ensure this is updated in Notion?\\n- Can you please ensure this is updated in Notion?\\n- Can you please ensure this is updated in Notion?\\n- Can you please ensure this is updated in Notion?\\n- Can you please ensure this is updated in Notion?\\n- Can you please ensure this is updated in Notion?\\n- Can you please ensure this is updated in Notion?\\n- Can you please ensure this is updated in Notion?\\n- Can you please ensure this is updated in Notion?\\n- Can you please ensure this is updated in Notion?\\n- Can you please ensure this is updated in Notion?\\n- Can you please ensure this is updated in Notion?\\n- Can you please ensure this is updated in Notion?\\n- Can you please ensure this is updated in Notion?\\n- Can you please ensure this is updated in Notion?\\n- Can you please ensure this is updated in Notion?\\n- Can you please ensure this is updated in Notion?\\n- Can you please ensure this is updated in Notion?\\n- Can you please ensure this is updated in Notion?\\n- Can you please ensure this is updated in Notion?\\n- Can you please ensure this is updated in Notion?\\n- Can you please ensure this is updated in Notion?\\n- Can you please ensure this is updated in Notion?\\n- Can you please ensure this is updated in Notion?\\n- Can you please ensure this is updated in Notion?\\n- Can you please ensure this is updated in Notion?\\n- Can you please ensure this is updated in Notion?\\n- Can you please ensure this is updated in Notion?\\n- Can you please ensure this is updated in Notion?\\n- Can you please ensure this is updated in Notion?\\n- Can you please ensure this is updated in Notion?\\n- Can you please ensure this is updated in Notion?\\n- Can you please ensure this is updated in Notion?\\n- Can you please ensure this is updated in Notion?\\n- Can you please ensure this is updated in Notion?\\n- Can you please ensure this is updated in Notion?\\n- Can you please ensure this is updated in Notion?\\n- Can you please ensure this is updated in Notion?\\n- Can you please ensure this is updated in Notion?\\n- Can you please ensure this is updated in Notion?\\n- Can you please ensure this is updated in Notion?\\n- Can you please ensure this is updated in Notion?\\n- Can you please ensure this is updated in Notion?\\n- Can you please ensure this is updated in Notion?\\n- Can you please ensure this is updated in Notion?\\n- Can you please ensure this is updated in Notion?\\n- Can you please ensure this is updated in Notion?\\n- Can you please ensure this is updated in Notion?\\n- Can you please ensure this is updated in Notion?\\n- Can you please ensure this is updated in Notion?\\n- Can you please ensure this is updated in Notion?\\n- Can you please ensure this is updated in Notion?\\n- Can you please ensure this is updated in Notion?\\n- Can you please ensure this is updated in Notion?\\n- Can you please ensure this is updated in Notion?\\n- Can you please ensure this is updated in Notion?\\n- Can you please ensure this is updated in Notion?\\n- Can you please ensure this is updated in Notion?\\n- Can you please ensure this is updated in Notion?\\n- Can you please ensure this is updated in Notion?\\n- Can you please ensure this is updated in Notion?\\n- Can you please ensure this is updated in Notion?\\n- Can you please ensure this is updated in Notion?\\n- Can you please ensure this is updated in Notion?\\n- Can you please ensure this is updated in Notion?\\n- Can you please ensure this is updated in Notion?\\n- Can you please ensure this is updated in Notion?\\n- Can you please ensure this is updated in Notion?\\n- Can you please ensure this is updated in Notion?\\n- Can you please ensure this is updated in Notion?\\n- Can you please ensure this is updated in Notion?\\n- Can you please ensure this is updated in Notion?\\n- Can you please ensure this is updated in Notion?\\n- Can you please ensure this is updated in Notion?\\n- Can you please ensure this is updated in Notion?\\n- Can you please ensure this is updated in Notion?\\n- Can you please ensure this is updated in Notion?\\n- Can you please ensure this is updated in Notion?\\n- Can you please ensure this is updated in Notion?\\n- Can you please ensure this is updated in Notion?\\n- Can you please ensure this is updated in Notion?\\n- Can you please ensure this is updated in Notion?\\n- Can you please ensure this is updated in Notion?\\n- Can you please ensure this is updated in Notion?\\n- Can you please ensure this is updated in Notion?\\n- Can you please ensure this is updated in Notion?\\n- Can you please ensure this is updated in Notion?\\n- Can you please ensure this is updated in Notion?\\n- Can you please ensure this is updated in Notion?\\n- Can you please ensure this is updated in Notion?\\n- Can you please ensure this is updated in Notion?\\n- Can you please ensure this is updated in Notion?\\n- Can you please ensure this is updated in Notion?\\n- Can you please ensure this is updated in Notion?\\n- Can you please ensure this is updated in Notion?\\n- Can you please ensure this is updated in Notion?\\n- Can you please ensure this is updated in Notion?\\n- Can you please ensure this is updated in Notion?\\n- Can you please ensure this is updated in Notion?\\n- Can you please ensure this is updated in Notion?\\n- Can you please ensure this is updated in Notion?\\n- Can you please ensure this is updated in Notion?\\n- Can you please ensure this is updated in Notion?\\n- Can you please ensure this is updated in Notion?\\n- Can you please ensure this is updated in Notion?\\n- Can you please ensure this is updated in Notion?\\n- Can you please ensure this is updated in Notion?\\n- Can you please ensure this is updated in Notion?\\n- Can you please ensure this is updated in Notion?\\n- Can you please ensure this is updated in Notion?\\n- Can you please ensure this is updated in Notion?\\n- Can you please ensure this is updated in Notion?\\n- Can you please ensure this is updated in Notion?\\n- Can you please ensure this is updated in Notion?\\n- Can you please ensure this is updated in Notion?\\n- Can you please ensure this is updated in Notion?\\n- Can you please ensure this is updated in Notion?\\n- Can you please ensure this is updated in Notion?\\n- Can you please ensure this is updated in Notion?\\n- Can you please ensure this is updated in Notion?\\n- Can you please ensure this is updated in Notion?\\n- Can you please ensure this is updated in Notion?\\n- Can you please ensure this is updated in Notion?\\n- Can you please ensure this is updated in Notion?\\n- Can you please ensure this is updated in Notion?\\n- Can you please ensure this is updated in Notion?\\n- Can you please ensure this is updated in Notion?\\n- Can you please ensure this is updated in Notion?\\n- Can you please ensure this is updated in Notion?\\n- Can you please ensure this is updated in Notion?\\n- Can you please ensure this is updated in Notion?\\n- Can you please ensure this is updated in Notion?\\n- Can you please ensure this is updated in Notion?\\n- Can you please ensure this is updated in Notion?\\n- Can you please ensure this is updated in Notion?\\n- Can you please ensure this is updated in Notion?\\n- Can you please ensure this is updated in Notion?\\n- Can you please ensure this is updated in Notion?\\n- Can you please ensure this is updated in Notion?\\n- Can you please ensure this is updated in Notion?\\n- Can you please ensure this is updated in Notion?\\n- Can you please ensure this is updated in Notion?\\n- Can you please ensure this is updated in Notion?\\n- Can you please ensure this is updated in Notion?\\n- Can you please ensure this is updated in Notion?\\n- Can you please ensure this is updated in Notion?\\n- Can you please ensure this is updated in Notion?\\n- Can you please ensure this is updated in Notion?\\n- Can you please ensure this is updated in Notion?\\n- Can you please ensure this is updated in Notion?\\n- Can you please ensure this is updated in Notion?\\n- Can you please ensure this is updated in Notion?\\n- Can you please ensure this is updated in Notion?\\n- Can you please ensure this is updated in Notion?\\n- Can you please ensure this is updated in Notion?\\n- Can you please ensure this is updated in Notion?\\n- Can you please ensure this is updated in Notion?\\n- Can you please ensure this is updated in Notion?\\n- Can you please ensure this is updated in Notion?\\n- Can you please ensure this is updated in Notion?\\n- Can you please ensure this is updated in Notion?\\n- Can you please ensure this is updated in Notion?\\n- Can you please ensure this is updated in Notion?\\n- Can you please ensure this is updated in Notion?\\n- Can you please ensure this is updated in Notion?\\n- Can you please ensure this is updated in Notion?\\n- Can you please ensure this is updated in Notion?\\n- Can you please ensure this is updated in Notion?\\n- Can you please ensure this is updated in Notion?\\n- Can you please ensure this is updated in Notion?\\n- Can you please ensure this is updated in Notion?\\n- Can you please ensure this is updated in Notion?\\n- Can you please ensure this is updated in Notion?\\n- Can you please ensure this is updated in Notion?\\n- Can you please ensure this is updated in Notion?\\n- Can you please ensure this is updated in Notion?\\n- Can you please ensure this is updated in Notion?\\n- Can you please ensure this is updated in Notion?\\n- Can you please ensure this is updated in Notion?\\n- Can you please ensure this is updated in Notion?\\n- Can you please ensure this is updated in Notion?\\n- Can you please ensure this is updated in Notion?\\n- Can you please ensure this is updated in Notion?\\n- Can you please ensure this is updated in Notion?\\n- Can you please ensure this is updated in Notion?\\n- Can you please ensure this is updated in Notion?\\n- Can you please ensure this is updated in Notion?\\n- Can you please ensure this is updated in Notion?\\n- Can you please ensure this is updated in Notion?\\n- Can you please ensure this is updated in Notion?\\n- Can you please ensure this is updated in Notion?\\n- Can you please ensure this is updated in Notion?\\n- Can you please ensure this is updated in Notion?\\n- Can you please ensure this is updated in Notion?\\n- Can you please ensure this is updated in Notion?\\n- Can you please ensure this is updated in Notion?\\n- Can you please ensure this is updated in Notion?\\n- Can you please ensure this is updated in Notion?\\n- Can you please ensure this is updated in Notion?\\n- Can you please ensure this is updated in Notion?\\n- Can you please ensure this is updated in Notion?\\n- Can you please ensure this is updated in Notion?\\n- Can you please ensure this is updated in Notion?\\n- Can you please ensure this is updated in Notion?\\n- Can you please ensure this is updated in Notion?\\n- Can you please ensure this is updated in Notion?\\n- Can you please ensure this is updated in Notion?\\n- Can you please ensure this is updated in Notion?\\n- Can you please ensure this is updated in Notion?\\n- Can you please ensure this is updated in Notion?\\n- Can you please ensure this is updated in Notion?\\n- Can you please ensure this is updated in Notion?\\n- Can you please ensure this is updated in Notion?\\n- Can you please ensure this is updated in Notion?\\n- Can you please ensure this is updated in Notion?\\n- Can you please ensure this is updated in Notion?\\n- Can you please ensure this is updated in Notion?\\n- Can you please ensure this is updated in Notion?\\n- Can you please ensure this is updated in Notion?\\n- Can you please ensure this is updated in Notion?\\n- Can you please ensure this is updated in Notion?\\n- Can you please ensure this is updated in Notion?\\n- Can you please ensure this is updated in Notion?\\n- Can you please ensure this is updated in Notion?\\n- Can you please ensure this is updated in Notion?\\n- Can you please ensure this is updated in Notion?\\n- Can you please ensure this is updated in Notion?\\n- Can you please ensure this is updated in Notion?\\n- Can you please ensure this is updated in Notion?\\n- Can you please ensure this is updated in Notion?\\n- Can you please ensure this is updated in Notion?\\n- Can you please ensure this is updated in Notion?\\n- Can you please ensure this is updated in Notion?\\n- Can you please ensure this is updated in Notion?\\n- Can you please ensure this is updated in Notion?\\n- Can you please ensure this is updated in Notion?\\n- Can you please ensure this is updated in Notion?\\n- Can you please ensure this is updated in Notion?\\n- Can you please ensure this is updated in Notion?\\n- Can you please ensure this is updated in Notion?\\n- Can you please ensure this is updated in Notion?\\n- Can you please ensure this is updated in Notion?\\n- Can you please ensure this is updated in Notion?\\n- Can you please ensure this is updated in Notion?\\n- Can you please ensure this is updated in Notion?\\n- Can you please ensure this is updated in Notion?\\n- Can you please ensure this is updated in Notion?\\n- Can you please ensure this is updated in Notion?\\n- Can you please ensure this is updated in Notion?\\n- Can you please ensure this is updated in Notion?\\n- Can you please ensure this is updated in Notion?\\n- Can you please ensure this is updated in Notion?\\n- Can you please ensure this is updated in Notion?\\n- Can you please ensure this is updated in Notion?\\n- Can you please ensure this is updated in Notion?\\n- Can you please ensure this is updated in Notion?\\n- Can you please ensure this is updated in Notion?\\n- Can you please ensure this is updated in Notion?\\n- Can you please ensure this is updated in Notion?\\n- Can you please ensure this is updated in Notion?\\n- Can you please ensure this is updated in Notion?\\n- Can you please ensure this is updated in Notion?\\n- Can you please ensure this is updated in Notion?\\n- Can you please ensure this is updated in Notion?\\n- Can you please ensure this is updated in Notion?\\n- Can you please ensure this is updated in Notion?\\n- Can you please ensure this is updated in Notion?\\n- Can you please ensure this is updated in Notion?\\n- Can you please ensure this is updated in Notion?\\n- Can you please ensure this is updated in Notion?\\n- Can you please ensure this is updated in Notion?\\n- Can you please ensure this is updated in Notion?\\n- Can you please ensure this is updated in Notion?\\n- Can you please ensure this is updated in Notion?\\n- Can you please ensure this is updated in Notion?\\n- Can you please ensure this is updated in Notion?\\n- Can you please ensure this is updated in Notion?\\n- Can you please ensure this is updated in Notion?\\n- Can you please ensure this is updated in Notion?\\n- Can you please ensure this is updated in Notion?\\n- Can you please ensure this is updated in Notion?\\n- Can you please ensure this is updated in Notion?\\n- Can you please ensure this is updated in Notion?\\n- Can you please ensure this is updated in Notion?\\n- Can you please ensure this is updated in Notion?\\n- Can you please ensure this is updated in Notion?\\n- Can you please ensure this is updated in Notion?\\n- Can you please ensure this is updated in Notion?\\n- Can you please ensure this is updated in Notion?\\n- Can you please ensure this is updated in Notion?\\n- Can you please ensure this is updated in Notion?\\n- Can you please ensure this is updated in Notion?\\n- Can you please ensure this is updated in Notion?\\n- Can you please ensure this is updated in Notion?\\n- Can you please ensure this is updated in Notion?\\n- Can you please ensure this is updated in Notion?\\n- Can you please ensure this is updated in Notion?\\n- Can you please ensure this is updated in Notion?\\n- Can you please ensure this is updated in Notion?\\n- Can you please ensure this is updated in Notion?\\n- Can you please ensure this is updated in Notion?\\n- Can you please ensure this is updated in Notion?\\n- Can you please ensure this is updated in Notion?\\n- Can you please ensure this is updated in Notion?\\n- Can you please ensure this is updated in Notion?\\n- Can you please ensure this is updated in Notion?\\n- Can you please ensure this is updated in Notion?\\n- Can you please ensure this is updated in Notion?\\n- Can you please ensure this is updated in Notion?\\n- Can you please ensure this is updated in Notion?\\n- Can you please ensure this is updated in Notion?\\n- Can you please ensure this is updated in Notion?\\n- Can you please ensure this is updated in Notion?\\n- Can you please ensure this is updated in Notion?\\n- Can you please ensure this is updated in Notion?\\n- Can you please ensure this is updated in Notion?\\n- Can you please ensure this is updated in Notion?\\n- Can you please ensure this is updated in Notion?\\n- Can you please ensure this is updated in Notion?\\n- Can you please ensure this is updated in Notion?\\n- Can you please ensure this is updated in Notion?\\n- Can you please ensure this is updated in Notion?\\n- Can you please ensure this is updated in Notion?\\n- Can you please ensure this is updated in Notion?\\n- Can you please ensure this is updated in Notion?\\n- Can you please ensure this is updated in Notion?\\n- Can you please ensure this is updated in Notion?\\n- Can you please ensure this is updated in Notion?\\n- Can you please ensure this is updated in Notion?\\n- Can you please ensure this is updated in Notion?\\n- Can you please ensure this is updated in Notion?\\n- Can you please ensure this is updated in Notion?\\n- Can you please ensure this is updated in Notion?\\n- Can you please ensure this is updated in Notion?\\n- Can you please ensure this is updated in Notion?\\n- Can you please ensure this is updated in Notion?\\n- Can you please ensure this is updated in Notion?\\n- Can you please ensure this is updated in Notion?\\n- Can you please ensure this is updated in Notion?\\n- Can you please ensure this is updated in Notion?\\n- Can you please ensure this is updated in Notion?\\n- Can you please ensure this is updated in Notion?\\n- Can you please ensure this is updated in Notion?\\n- Can you please ensure this is updated in Notion?\\n- Can you please ensure this is updated in Notion?\\n- Can you please ensure this is updated in Notion?\\n- Can you please ensure this is updated in Notion?\\n- Can you please ensure this is updated in Notion?\\n- Can you please ensure this is updated in Notion?\\n- Can you please ensure this is updated in Notion?\\n- Can you please ensure this is updated in Notion?\\n- Can you please ensure this is updated in Notion?\\n- Can you please ensure this is updated in Notion?\\n- Can you please ensure this is updated in Notion?\\n- Can you please ensure this is updated in Notion?\\n- Can you please ensure this is updated in Notion?\\n- Can you please ensure this is updated in Notion?\\n- Can you please ensure this is updated in Notion?\\n- Can you please ensure this is updated in Notion?\\n- Can you please ensure this is updated in Notion?\\n- Can you please ensure this is updated in Notion?\\n- Can you please ensure this is updated in Notion?\\n- Can you please ensure this is updated in Notion?\\n- Can you please ensure this is updated in Notion?\\n- Can you please ensure this is updated in Notion?\\n- Can you please ensure this is updated in Notion?\\n- Can you please ensure this is updated in Notion?\\n- Can you please ensure this is updated in Notion?\\n- Can you please ensure this is updated in Notion?\\n- Can you please ensure this is updated in Notion?\\n- Can you please ensure this is updated in Notion?\\n- Can you please ensure this is updated in Notion?\\n- Can you please ensure this is updated in Notion?\\n- Can you please ensure this is updated in Notion?\\n- Can you please ensure this is updated in Notion?\\n- Can you please ensure this is updated in Notion?\\n- Can you please ensure this is updated in Notion?\\n- Can you please ensure this is updated in Notion?\\n- Can you please ensure this is updated in Notion?\\n- Can you please ensure this is updated in Notion?\\n- Can you please ensure this is updated in Notion?\\n- Can you please ensure this is updated in Notion?\\n- Can you please ensure this is updated in Notion?\\n- Can you please ensure this is updated in Notion?\\n- Can you please ensure this is updated in Notion?\\n- Can you please ensure this is updated in Notion?\\n- Can you please ensure this is updated in Notion?\\n- Can you please ensure this is updated in Notion?\\n- Can you please ensure this is updated in Notion?\\n- Can you please ensure this is updated in Notion?\\n- Can you please ensure this is updated in Notion?\\n- Can you please ensure this is updated in Notion?\\n- Can you please ensure this is updated in Notion?\\n- Can you please ensure this is updated in Notion?\\n- Can you please ensure this is updated in Notion?\\n- Can you please ensure this is updated in Notion?\\n- Can you please ensure this is updated in Notion?\\n- Can you please ensure this is updated in Notion?\\n- Can you please ensure this is updated in Notion?\\n- Can you please ensure this is updated in Notion?\\n- Can you please ensure this is updated in Notion?\\n- Can you please ensure this is updated in Notion?\\n- Can you please ensure this is updated in Notion?\\n- Can you please ensure this is updated in Notion?\\n- Can you please ensure this is updated in Notion?\\n- Can you please ensure this is updated in Notion?\\n- Can you please ensure this is updated in Notion?\\n- Can you please ensure this is updated in Notion?\\n- Can you please ensure this is updated in Notion?\\n- Can you please ensure this is updated in Notion?\\n- Can you please ensure this is updated in Notion?\\n- Can you please ensure this is updated in Notion?\\n- Can you please ensure this is updated in Notion?\\n- Can you please ensure this is updated in Notion?\\n- Can you please ensure this is updated in Notion?\\n- Can you please ensure this is updated in Notion?\\n- Can you please ensure this is updated in Notion?\\n- Can you please ensure this is updated in Notion?\\n- Can you please ensure this is updated in Notion?\\n- Can you please ensure this is updated in Notion?\\n- Can you please ensure this is updated in Notion?\\n- Can you please ensure this is updated in Notion?\\n- Can you please ensure this is updated in Notion?\\n- Can you please ensure this is updated in Notion?\\n- Can you please ensure this is updated in Notion?\\n- Can you please ensure this is updated in Notion?\\n- Can you please ensure this is updated in Notion?\\n- Can you please ensure this is updated in Notion?\\n- Can you please ensure this is updated in Notion?\\n- Can you please ensure this is updated in Notion?\\n- Can you please ensure this is updated in Notion?\\n- Can you please ensure this is updated in Notion?\\n- Can you please ensure this is updated in Notion?\\n- Can you please ensure this is updated in Notion?\\n- Can you please ensure this is updated in Notion?\\n- Can you please ensure this is updated in Notion?\\n- Can you please ensure this is updated in Notion?\\n- Can you please ensure this is updated in Notion?\\n- Can you please ensure this is updated in Notion?\\n- Can you please ensure this is updated in Notion?\\n- Can you please ensure this is updated in Notion?\\n- Can you please ensure this is updated in Notion?\\n- Can you please ensure this is updated in Notion?\\n- Can you please ensure this is updated in Notion?\\n- Can you please ensure this is updated in Notion?\\n- Can you please ensure this is updated in Notion?\\n- Can you please ensure this is updated in Notion?\\n- Can you please ensure this is updated in Notion?\\n- Can you please ensure this is updated in Notion?\\n- Can you please ensure this is updated in Notion?\\n- Can you please ensure this is updated in Notion?\\n- Can you please ensure this is updated in Notion?\\n- Can you please ensure this is updated in Notion?\\n- Can you please ensure this is updated in Notion?\\n- Can you please ensure this is updated in Notion?\\n- Can you please ensure this is updated in Notion?\\n- Can you please ensure this is updated in Notion?\\n- Can you please ensure this is updated in Notion?\\n- Can you please ensure this is updated in Notion?\\n- Can you please ensure this is updated in Notion?\\n- Can you please ensure this is updated in Notion?\\n- Can you please ensure this is updated in Notion?\\n- Can you please ensure this is updated in Notion?\\n- Can you please ensure this is updated in Notion?\\n- Can you please ensure this is updated in Notion?\\n- Can you please ensure this is updated in Notion?\\n- Can you please ensure this is updated in Notion?\\n- Can you please ensure this is updated in Notion?\\n- Can you please ensure this is updated in Notion?\\n- Can you please ensure this is updated in Notion?\\n- Can you please ensure this is updated in Notion?\\n- Can you please ensure this is updated in Notion?\\n- Can you please ensure this is updated in Notion?\\n- Can you please ensure this is updated in Notion?\\n- Can you please ensure this is updated in Notion?\\n- Can you please ensure this is updated in Notion?\\n- Can you please ensure this is updated in Notion?\\n- Can you please ensure this is updated in Notion?\\n- Can you please ensure this is updated in Notion?\\n- Can you please ensure this is updated in Notion?\\n- Can you please ensure this is updated in Notion?\\n- Can you please ensure this is updated in Notion?\\n- Can you please ensure this is updated in Notion?\\n- Can you please ensure this is updated in Notion?\\n- Can you please ensure this is updated in Notion?\\n- Can you please ensure this is updated in Notion?\\n- Can you please ensure this is updated in Notion?\\n- Can you please ensure this is updated in Notion?\\n- Can you please ensure this is updated in Notion?\\n- Can you please ensure this is updated in Notion?\\n- Can you please ensure this is updated in Notion?\\n- Can you please ensure this is updated in Notion?\\n- Can you please ensure this is updated in Notion?\\n- Can you please ensure this is updated in Notion?\\n- Can you please ensure this is updated in Notion?\\n- Can you please ensure this is updated in Notion?\\n- Can you please ensure this is updated in Notion?\\n- Can you please ensure this is updated in Notion?\\n- Can you please ensure this is updated in Notion?\\n- Can you please ensure this is updated in Notion?\\n- Can you please ensure this is updated in Notion?\\n- Can you please ensure this is updated in Notion?\\n- Can you please ensure this is updated in Notion?\\n- Can you please ensure this is updated in Notion?\\n- Can you please ensure this is updated in Notion?\\n- Can you please ensure this is updated in Notion?\\n- Can you please ensure this is updated in Notion?\\n- Can you please ensure this is updated in Notion?\\n- Can you please ensure this is updated in Notion?\\n- Can you please ensure this is updated in Notion?\\n- Can you please ensure this is updated in Notion?\\n- Can you please ensure this is updated in Notion?\\n- Can you please ensure this is updated in Notion?\\n- Can you please ensure this is updated in Notion?\\n- Can you please ensure this is updated in Notion?\\n- Can you please ensure this is updated in Notion?\\n- Can you please ensure this is updated in Notion?\\n- Can you please ensure this is updated in Notion?\\n- Can you please ensure this is updated in Notion?\\n- Can you please ensure this is updated in Notion?\\n- Can you please ensure this is updated in Notion?\\n- Can you please ensure this is updated in Notion?\\n- Can you please ensure this is updated in Notion?\\n- Can you please ensure this is updated in Notion?\\n- Can you please ensure this is updated in Notion?\\n- Can you please ensure this is updated in Notion?\\n- Can you please ensure this is updated in Notion?\\n- Can you please ensure this is updated in Notion?\\n- Can you please ensure this is updated in Notion?\\n- Can you please ensure this is updated in Notion?\\n- Can you please ensure this is updated in Notion?\\n- Can you please ensure this is updated in Notion?\\n- Can you please ensure this is updated in Notion?\\n- Can you please ensure this is updated in Notion?\\n- Can you please ensure this is updated in Notion?\\n- Can you please ensure this is updated in Notion?\\n- Can you please ensure this is updated in Notion?\\n- Can you please ensure this is updated in Notion?\\n- Can you please ensure this is updated in Notion?\\n- Can you please ensure this is updated in Notion?\\n- Can you please ensure this is updated in Notion?\\n- Can you please ensure this is updated in Notion?\\n- Can you please ensure this is updated in Notion?\\n- Can you please ensure this is updated in Notion?\\n- Can you please ensure this is updated in Notion?\\n- Can you please ensure this is updated in Notion?\\n- Can you please ensure this is updated in Notion?\\n- Can you please ensure this is updated in Notion?\\n- Can you please ensure this is updated in Notion?\\n- Can you please ensure this is updated in Notion?\\n- Can you please ensure this is updated in Notion?\\n- Can you please ensure this is updated in Notion?\\n- Can you please ensure this is updated in Notion?\\n- Can you please ensure this is updated in Notion?\\n- Can you please ensure this is updated in Notion?\\n- Can you please ensure this is updated in Notion?\\n- Can you please ensure this is updated in Notion?\\n- Can you please ensure this is updated in Notion?\\n- Can you please ensure this is updated in Notion?\\n- Can you please ensure this is updated in Notion?\\n- Can you please ensure this is updated in Notion?\\n- Can you please ensure this is updated in Notion?\\n- Can you please ensure this is updated in Notion?\\n- Can you please ensure this is updated in Notion?\\n- Can you please ensure this is updated in Notion?\\n- Can you please ensure this is updated in Notion?\\n- Can you please ensure this is updated in Notion?\\n- Can you please ensure this is updated in Notion?\\n- Can you please ensure this is updated in Notion?\\n- Can you please ensure this is updated in Notion?\\n- Can you please ensure this is updated in Notion?\\n- Can you please ensure this is updated in Notion?\\n- Can you please ensure this is updated in Notion?\\n- Can you please ensure this is updated in Notion?\\n- Can you please ensure this is updated in Notion?\\n- Can you please ensure this is updated in Notion?\\n- Can you please ensure this is updated in Notion?\\n- Can you please ensure this is updated in Notion?\\n- Can you please ensure this is updated in Notion?\\n- Can you please ensure this is updated in Notion?\\n- Can you please ensure this is updated in Notion?\\n- Can you please ensure this is updated in Notion?\\n- Can you please ensure this is updated in Notion?\\n- Can you please ensure this is updated in Notion?\\n- Can you please ensure this is updated in Notion?\\n- Can you please ensure this is updated in Notion?\\n- Can you please ensure this is updated in Notion?\\n- Can you please ensure this is updated in Notion?\\n- Can you please ensure this is updated in Notion?\\n- Can you please ensure this is updated in Notion?\\n- Can you please ensure this is updated in Notion?\\n- Can you please ensure this is updated in Notion?\\n- Can you please ensure this is updated in Notion?\\n- Can you please ensure this is updated in Notion?\\n- Can you please ensure this is updated in Notion?\\n- Can you please ensure this is updated in Notion?\\n- Can you please ensure this is updated in Notion?\\n- Can you please ensure this is updated in Notion?\\n- Can you please ensure this is updated in Notion?\\n- Can you please ensure this is updated in Notion?\\n- Can you please ensure this is updated in Notion?\\n- Can you please ensure this is updated in Notion?\\n- Can you please ensure this is updated in Notion?\\n- Can you please ensure this is updated in Notion?\\n- Can you please ensure this is updated in Notion?\\n- Can you please ensure this is updated in Notion?\\n- Can you please ensure this is updated in Notion?\\n- Can you please ensure this is updated in Notion?\\n- Can you please ensure this is updated in Notion?\\n- Can you please ensure this is updated in Notion?\\n- Can you please ensure this is updated in Notion?\\n- Can you please ensure this is updated in Notion?\\n- Can you please ensure this is updated in Notion?\\n- Can you please ensure this is updated in Notion?\\n- Can you please ensure this is updated in Notion?\\n- Can you please ensure this is updated in Notion?\\n- Can you please ensure this is updated in Notion?\\n- Can you please ensure this is updated in Notion?\\n- Can you please ensure this is updated in Notion?\\n- Can you please ensure this is updated in Notion?\\n- Can you please ensure this is updated in Notion?\\n- Can you please ensure this is updated in Notion?\\n- Can you please ensure this is updated in Notion?\\n- Can you please ensure this is updated in Notion?\\n- Can you please ensure this is updated in Notion?\\n- Can you please ensure this is updated in Notion?\\n- Can you please ensure this is updated in Notion?\\n- Can you please ensure this is updated in Notion?\\n- Can you please ensure this is updated in Notion?\\n- Can you please ensure this is updated in Notion?\\n- Can you please ensure this is updated in Notion?\\n- Can you please ensure this is updated in Notion?\\n- Can you please ensure this is updated in Notion?\\n- Can you please ensure this is updated in Notion?\\n- Can you please ensure this is updated in Notion?\\n- Can you please ensure this is updated in Notion?\\n- Can you please ensure this is updated in Notion?\\n- Can you please ensure this is updated in Notion?\\n- Can you please ensure this is updated in Notion?\\n- Can you please ensure this is updated in Notion?\\n- Can you please ensure this is updated in Notion?\\n- Can you please ensure this is updated in Notion?\\n- Can you please ensure this is updated in Notion?\\n- Can you please ensure this is updated in Notion?\\n- Can you please ensure this is updated in Notion?\\n- Can you please ensure this is updated in Notion?\\n- Can you please ensure this is updated in Notion?\\n- Can you please ensure this is updated in Notion?\\n- Can you please ensure this is updated in Notion?\\n- Can you please ensure this is updated in Notion?\\n- Can you please ensure this is updated in Notion?\\n- Can you please ensure this is updated in Notion?\\n- Can you please ensure this is updated in Notion?\\n- Can you please ensure this is updated in Notion?\\n- Can you please ensure this is updated in Notion?\\n- Can you please ensure this is updated in Notion?\\n- Can you please ensure this is updated in Notion?\\n- Can you please ensure this is updated in Notion?\\n- Can you please ensure this is updated in Notion?\\n- Can you please ensure this is updated in Notion?\\n- Can you please ensure this is updated in Notion?\\n- Can you please ensure this is updated in Notion?\\n- Can you please ensure this is updated in Notion?\\n- Can you please ensure this is updated in Notion?\\n- Can you please ensure this is updated in Notion?\\n- Can you please ensure this is updated in Notion?\\n- Can you please ensure this is updated in Notion?\\n- Can you please ensure this is updated in Notion?\\n- Can you please ensure this is updated in Notion?\\n- Can you please ensure this is updated in Notion?\\n- Can you please ensure this is updated in Notion?\\n- Can you please ensure this is updated in Notion?\\n- Can you please ensure this is updated in Notion?\\n- Can you please ensure this is updated in Notion?\\n- Can you please ensure this is updated in Notion?\\n- Can you please ensure this is updated in Notion?\\n- Can you please ensure this is updated in Notion?\\n- Can you please ensure this is updated in Notion?\\n- Can you please ensure this is updated in Notion?\\n- Can you please ensure this is updated in Notion?\\n- Can you please ensure this is updated in Notion?\\n- Can you please ensure this is updated in Notion?\\n- Can you please ensure this is updated in Notion?\\n- Can you please ensure this is updated in Notion?\\n- Can you please ensure this is updated in Notion?\\n- Can you please ensure this is updated in Notion?\\n- Can you please ensure this is updated in Notion?\\n- Can you please ensure this is updated in Notion?\\n- Can you please ensure this is updated in Notion?\\n- Can you please ensure this is updated in Notion?\\n- Can you please ensure this is updated in Notion?\\n- Can you please ensure this is updated in Notion?\\n- Can you please ensure this is updated in Notion?\\n- Can you please ensure this is updated in Notion?\\n- Can you please ensure this is updated in Notion?\\n- Can you please ensure this is updated in Notion?\\n- Can you please ensure this is updated in Notion?\\n- Can you please ensure this is updated in Notion?\\n- Can you please ensure this is updated in Notion?\\n- Can you please ensure this is updated in Notion?\\n- Can you please ensure this is updated in Notion?\\n- Can you please ensure this is updated in Notion?\\n- Can you please ensure this is updated in Notion?\\n- Can you please ensure this is updated in Notion?\\n- Can you please ensure this is updated in Notion?\\n- Can you please ensure this is updated in Notion?\\n- Can you please ensure this is updated in Notion?\\n- Can you please ensure this is updated in Notion?\\n- Can you please ensure this is updated in Notion?\\n- Can you please ensure this is updated in Notion?\\n- Can you please ensure this is updated in Notion?\\n- Can you please ensure this is updated in Notion?\\n- Can you please ensure this is updated in Notion?\\n- Can you please ensure this is updated in Notion?\\n- Can you please ensure this is updated in Notion?\\n- Can you please ensure this is updated in Notion?\\n- Can you please ensure this is updated in Notion?\\n- Can you please ensure this is updated in Notion?\\n- Can you please ensure this is updated in Notion?\\n- Can you please ensure this is updated in Notion?\\n- Can you please ensure this is updated in Notion?\\n- Can you please ensure this is updated in Notion?\\n- Can you please ensure this is updated in Notion?\\n- Can you please ensure this is updated in Notion?\\n- Can you please ensure this is updated in Notion?\\n- Can you please ensure this is updated in Notion?\\n- Can you please ensure this is updated in Notion?\\n- Can you please ensure this is updated in Notion?\\n- Can you please ensure this is updated in Notion?\\n- Can you please ensure this is updated in Notion?\\n- Can you please ensure this is updated in Notion?\\n- Can you please ensure this is updated in Notion?\\n- Can you please ensure this is updated in Notion?\\n- Can you please ensure this is updated in Notion?\\n- Can you please ensure this is updated in Notion?\\n- Can you please ensure this is updated in Notion?\\n- Can you please ensure this is updated in Notion?\\n- Can you please ensure this is updated in Notion?\\n- Can you please ensure this is updated in Notion?\\n- Can you please ensure this is updated in Notion?\\n- Can you please ensure this is updated in Notion?\\n- Can you please ensure this is updated in Notion?\\n- Can you please ensure this is updated in Notion?\\n- Can you please ensure this is updated in Notion?\\n- Can you please ensure this is updated in Notion?\\n- Can you please ensure this is updated in Notion?\\n- Can you please ensure this is updated in Notion?\\n- Can you please ensure this is updated in Notion?\\n- Can you please ensure this is updated in Notion?\\n- Can you please ensure this is updated in Notion?\\n- Can you please ensure this is updated in Notion?\\n- Can you please ensure this is updated in Notion?\\n- Can you please ensure this is updated in Notion?\\n- Can you please ensure this is updated in Notion?\\n- Can you please ensure this is updated in Notion?\\n- Can you please ensure this is updated in Notion?\\n- Can you please ensure this is updated in Notion?\\n- Can you please ensure this is updated in Notion?\\n- Can you please ensure this is updated in Notion?\\n- Can you please ensure this is updated in Notion?\\n- Can you please ensure this is updated in Notion?\\n- Can you please ensure this is updated in Notion?\\n- Can you please ensure this is updated in Notion?\\n- Can you please ensure this is updated in Notion?\\n- Can you please ensure this is updated in Notion?\\n- Can you please ensure this is updated in Notion?\\n- Can you please ensure this is updated in Notion?\\n- Can you please ensure this is updated in Notion?\\n- Can you please ensure this is updated in Notion?\\n- Can you please ensure this is updated in Notion?\\n- Can you please ensure this is updated in Notion?\\n- Can you please ensure this is updated in Notion?\\n- Can you please ensure this is updated in Notion?\\n- Can you please ensure this is updated in Notion?\\n- Can you please ensure this is updated in Notion?\\n- Can you please ensure this is updated in Notion?\\n- Can you please ensure this is updated in Notion?\\n- Can you please ensure this is updated in Notion?\\n- Can you please ensure this is updated in Notion?\\n- Can you please ensure this is updated in Notion?\\n- Can you please ensure this is updated in Notion?\\n- Can you please ensure this is updated in Notion?\\n- Can you please ensure this is updated in Notion?\\n- Can you please ensure this is updated in Notion?\\n- Can you please ensure this is updated in Notion?\\n- Can you please ensure this is updated in Notion?\\n- Can you please ensure this is updated in Notion?\\n- Can you please ensure this is updated in Notion?\\n- Can you please ensure this is updated in Notion?\\n- Can you please ensure this is updated in Notion?\\n- Can you please ensure this is updated in Notion?\\n- Can you please ensure this is updated in Notion?\\n- Can you please ensure this is updated in Notion?\\n- Can you please ensure this is updated in Notion?\\n- Can you please ensure this is updated in Notion?\\n- Can you please ensure this is updated in Notion?\\n- Can you please ensure this is updated in Notion?\\n- Can you please ensure this is updated in Notion?\\n- Can you please ensure this is updated in Notion?\\n- Can you please ensure this is updated in Notion?\\n- Can you please ensure this is updated in Notion?\\n- Can you please ensure this is updated in Notion?\\n- Can you please ensure this is updated in Notion?\\n- Can you please ensure this is updated in Notion?\\n- Can you please ensure this is updated in Notion?\\n- Can you please ensure this is updated in Notion?\\n- Can you please ensure this is updated in Notion?\\n- Can you please ensure this is updated in Notion?\\n- Can you please ensure this is updated in Notion?\\n- Can you please ensure this is updated in Notion?\\n- Can you please ensure this is updated in Notion?\\n- Can you please ensure this is updated in Notion?\\n- Can you please ensure this is updated in Notion?\\n- Can you please ensure this is updated in Notion?\\n- Can you please ensure this is updated in Notion?\\n- Can you please ensure this is updated in Notion?\\n- Can you please ensure this is updated in Notion?\\n- Can you please ensure this is updated in Notion?\\n- Can you please ensure this is updated in Notion?\\n- Can you please ensure this is updated in Notion?\\n- Can you please ensure this is updated in Notion?\\n- Can you please ensure this is updated in Notion?\\n- Can you please ensure this is updated in Notion?\\n- Can you please ensure this is updated in Notion?\\n- Can you please ensure this is updated in Notion?\\n- Can you please ensure this is updated in Notion?\\n- Can you please ensure this is updated in Notion?\\n- Can you please ensure this is updated in Notion?\\n- Can you please ensure this is updated in Notion?\\n- Can you please ensure this is updated in Notion?\\n- Can you please ensure this is updated in Notion?\\n- Can you please ensure this is updated in Notion?\\n- Can you please ensure this is updated in Notion?\\n- Can you please ensure this is updated in Notion?\\n- Can you please ensure this is updated in Notion?\\n- Can you please ensure this is updated in Notion?\\n- Can you please ensure this is updated in Notion?\\n- Can you please ensure this is updated in Notion?\\n- Can you please ensure this is updated in Notion?\\n- Can you please ensure this is updated in Notion?\\n- Can you please ensure this is updated in Notion?\\n- Can you please ensure this is updated in Notion?\\n- Can you please ensure this is updated in Notion?\\n- Can you please ensure this is updated in Notion?\\n- Can you please ensure this is updated in Notion?\\n- Can you please ensure this is updated in Notion?\\n- Can you please ensure this is updated in Notion?\\n- Can you please ensure this is updated in Notion?\\n- Can you please ensure this is updated in Notion?\\n- Can you please ensure this is updated in Notion?\\n- Can you please ensure this is updated in Notion?\\n- Can you please ensure this is updated in Notion?\\n- Can you please ensure this is updated in Notion?\\n- Can you please ensure this is updated in Notion?\\n- Can you please ensure this is updated in Notion?\\n- Can you please ensure this is updated in Notion?\\n- Can you please ensure this is updated in Notion?\\n- Can you please ensure this is updated in Notion?\\n- Can you please ensure this is updated in Notion?\\n- Can you please ensure this is updated in Notion?\\n- Can you please ensure this is updated in Notion?\\n- Can you please ensure this is updated in Notion?\\n- Can you please ensure this is updated in Notion?\\n- Can you please ensure this is updated in Notion?\\n- Can you please ensure this is updated in Notion?\\n- Can you please ensure this is updated in Notion?\\n- Can you please ensure this is updated in Notion?\\n- Can you please ensure this is updated in Notion?\\n- Can you please ensure this is updated in Notion?\\n- Can you please ensure this is updated in Notion?\\n- Can you please ensure this is updated in Notion?\\n- Can you please ensure this is updated in Notion?\\n- Can you please ensure this is updated in Notion?\\n- Can you please ensure this is updated in Notion?\\n- Can you please ensure this is updated in Notion?\\n- Can you please ensure this is updated in Notion?\\n- Can you please ensure this is updated in Notion?\\n- Can you please ensure this is updated in Notion?\\n- Can you please ensure this is updated in Notion?\\n- Can you please ensure this is updated in Notion?\\n- Can you please ensure this is updated in Notion?\\n- Can you please ensure this is updated in Notion?\\n- Can you please ensure this is updated in Notion?\\n- Can you please ensure this is updated in Notion?\\n- Can you please ensure this is updated in Notion?\\n- Can you please ensure this is updated in Notion?\\n- Can you please ensure this is updated in Notion?\\n- Can you please ensure this is updated in Notion?\\n- Can you please ensure this is updated in Notion?\\n- Can you please ensure this is updated in Notion?\\n- Can you please ensure this is updated in Notion?\\n- Can you please ensure this is updated in Notion?\\n- Can you please ensure this is updated in Notion?\\n- Can you please ensure this is updated in Notion?\\n- Can you please ensure this is updated in Notion?\\n- Can you please ensure this is updated in Notion?\\n- Can you please ensure this is updated in Notion?\\n- Can you please ensure this is updated in Notion?\\n- Can you please ensure this is updated in Notion?\\n- Can you please ensure this is updated in Notion?\\n- Can you please ensure this is updated in Notion?\\n- Can you please ensure this is updated in Notion?\\n- Can you please ensure this is updated in Notion?\\n- Can you please ensure this is updated in Notion?\\n- Can you please ensure this is updated in Notion?\\n- Can you please ensure this is updated in Notion?\\n- Can you please ensure this is updated in Notion?\\n- Can you please ensure this is updated in Notion?\\n- Can you please ensure this is updated in Notion?\\n- Can you please ensure this is updated in Notion?\\n- Can you please ensure this is updated in Notion?\\n- Can you please ensure this is updated in Notion?\\n- Can you please ensure this is updated in Notion?\\n- Can you please ensure this is updated in Notion?\\n- Can you please ensure this is updated in Notion?\\n- Can you please ensure this is updated in Notion?\\n- Can you please ensure this is updated in Notion?\\n- Can you please ensure this is updated in Notion?\\n- Can you please ensure this is updated in Notion?\\n- Can you please ensure this is updated in Notion?\\n- Can you please ensure this is updated in Notion?\\n- Can you please ensure this is updated in Notion?\\n- Can you please ensure this is updated in Notion?\\n- Can you please ensure this is updated in Notion?\\n- Can you please ensure this is updated in Notion?\\n- Can you please ensure this is updated in Notion?\\n- Can you please ensure this is updated in Notion?\\n- Can you please ensure this is updated in Notion?\\n- Can you please ensure this is updated in Notion?\\n- Can you please ensure this is updated in Notion?\\n- Can you please ensure this is updated in Notion?\\n- Can you please ensure this is updated in Notion?\\n- Can you please ensure this is updated in Notion?\\n- Can you please ensure this is updated in Notion?\\n- Can you please ensure this is updated in Notion?\\n- Can you please ensure this is updated in Notion?\\n- Can you please ensure this is updated in Notion?\\n- Can you please ensure this is updated in Notion?\\n- Can you please ensure this is updated in Notion?\\n- Can you please ensure this is updated in Notion?\\n- Can you please ensure this is updated in Notion?\\n- Can you please ensure this is updated in Notion?\\n- Can you please ensure this is updated in Notion?\\n- Can you please ensure this is updated in Notion?\\n- Can you please ensure this is updated in Notion?\\n- Can you please ensure this is updated in Notion?\\n- Can you please ensure this is updated in Notion?\\n- Can you please ensure this is updated in Notion?\\n- Can you please ensure this is updated in Notion?\\n- Can you please ensure this is updated in Notion?\\n- Can you please ensure this is updated in Notion?\\n- Can you please ensure this is updated in Notion?\\n- Can you please ensure this is updated in Notion?\\n- Can you please ensure this is updated in Notion?\\n- Can you please ensure this is updated in Notion?\\n- Can you please ensure this is updated in Notion?\\n- Can you please ensure this is updated in Notion?\\n- Can you please ensure this is updated in Notion?\\n- Can you please ensure this is updated in Notion?\\n- Can you please ensure this is updated in Notion?\\n- Can you please ensure this is updated in Notion?\\n- Can you please ensure this is updated in Notion?\\n- Can you please ensure this is updated in Notion?\\n- Can you please ensure this is updated in Notion?\\n- Can you please ensure this is updated in Notion?\\n- Can you please ensure this is updated in Notion?\\n- Can you please ensure this is updated in Notion?\\n- Can you please ensure this is updated in Notion?\\n- Can you please ensure this is updated in Notion?\\n- Can you please ensure this is updated in Notion?\\n- Can you please ensure this is updated in Notion?\\n- Can you please ensure this is updated in Notion?\\n- Can you please ensure this is updated in Notion?\\n- Can you please ensure this is updated in Notion?\\n- Can you please ensure this is updated in Notion?\\n- Can you please ensure this is updated in Notion?\\n- Can you please ensure this is updated in Notion?\\n- Can you please ensure this is updated in Notion?\\n- Can you please ensure this is updated in Notion?\\n- Can you please ensure this is updated in Notion?\\n- Can you please ensure this is updated in Notion?\\n- Can you please ensure this is updated in Notion?\\n- Can you please ensure this is updated in Notion?\\n- Can you please ensure this is updated in Notion?\\n- Can you please ensure this is updated in Notion?\\n- Can you please ensure this is updated in Notion?\\n- Can you please ensure this is updated in Notion?\\n- Can you please ensure this is updated in Notion?\\n- Can you please ensure this is updated in Notion?\\n- Can you please ensure this is updated in Notion?\\n- Can you please ensure this is updated in Notion?\\n- Can you please ensure this is updated in Notion?\\n- Can you please ensure this is updated in Notion?\\n- Can you please ensure this is updated in Notion?\\n- Can you please ensure this is updated in Notion?\\n- Can you please ensure this is updated in Notion?\\n- Can you please ensure this is updated in Notion?\\n- Can you please ensure this is updated in Notion?\\n- Can you please ensure this is updated in Notion?\\n- Can you please ensure this is updated in Notion?\\n- Can you please ensure this is updated in Notion?\\n- Can you please ensure this is updated in Notion?\\n- Can you please ensure this is updated in Notion?\\n- Can you please ensure this is updated in Notion?\\n- Can you please ensure this is updated in Notion?\\n- Can you please ensure this is updated in Notion?\\n- Can you please ensure this is updated in Notion?\\n- Can you please ensure this is updated in Notion?\\n- Can you please ensure this is updated in Notion?\\n- Can you please ensure this is updated in Notion?\\n- Can you please ensure this is updated in Notion?\\n- Can you please ensure this is updated in Notion?\\n- Can you please ensure this is updated in Notion?\\n- Can you please ensure this is updated in Notion?\\n- Can you please ensure this is updated in Notion?\\n- Can you please ensure this is updated in Notion?\\n- Can you please ensure this is updated in Notion?\\n- Can you please ensure this is updated in Notion?\\n- Can you please ensure this is updated in Notion?\\n- Can you please ensure this is updated in Notion?\\n- Can you please ensure this is updated in Notion?\\n- Can you please ensure this is updated in Notion?\\n- Can you please ensure this is updated in Notion?\\n- Can you please ensure this is updated in Notion?\\n- Can you please ensure this is updated in Notion?\\n- Can you please ensure this is updated in Notion?\\n- Can you please ensure this is updated in Notion?\\n- Can you please ensure this is updated in Notion?\\n- Can you please ensure this is updated in Notion?\\n- Can you please ensure this is updated in Notion?\\n- Can you please ensure this is updated in Notion?\\n- Can you please ensure this is updated in Notion?\\n- Can you please ensure this is updated in Notion?\\n- Can you please ensure this is updated in Notion?\\n- Can you please ensure this is updated in Notion?\\n- Can you please ensure this is updated in Notion?\\n- Can you please ensure this is updated in Notion?\\n- Can you please ensure this is updated in Notion?\\n- Can you please ensure this is updated in Notion?\\n- Can you please ensure this is updated in Notion?\\n- Can you please ensure this is updated in Notion?\\n- Can you please ensure this is updated in Notion?\\n- Can you please ensure this is updated in Notion?\\n- Can you please ensure this is updated in Notion?\\n- Can you please ensure this is updated in Notion?\\n- Can you please ensure this is updated in Notion?\\n- Can you please ensure this is updated in Notion?\\n- Can you please ensure this is updated in Notion?\\n- Can you please ensure this is updated in Notion?\\n- Can you please ensure this is updated in Notion?\\n- Can you please ensure this is updated in Notion?\\n- Can you please ensure this is updated in Notion?\\n- Can you please ensure this is updated in Notion?\\n- Can you please ensure this is updated in Notion?\\n- Can you please ensure this is updated in Notion?\\n- Can you please ensure this is updated in Notion?\\n- Can you please ensure this is updated in Notion?\\n- Can you please ensure this is updated in Notion?\\n- Can you please ensure this is updated in Notion?\\n- Can you please ensure this is updated in Notion?\\n- Can you please ensure this is updated in Notion?\\n- Can you please ensure this is updated in Notion?\\n- Can you please ensure this is updated in Notion?\\n- Can you please ensure this is updated in Notion?\\n- Can you please ensure this is updated in Notion?\\n- Can you please ensure this is updated in Notion?\\n- Can you please ensure this is updated in Notion?\\n- Can you please ensure this is updated in Notion?\\n- Can you please ensure this is updated in Notion?\\n- Can you please ensure this is updated in Notion?\\n- Can you please ensure this is updated in Notion?\\n- Can you please ensure this is updated in Notion?\\n- Can you please ensure this is updated in Notion?\\n- Can you please ensure this is updated in Notion?\\n- Can you please ensure this is updated in Notion?\\n- Can you please ensure this is updated in Notion?\\n- Can you please ensure this is updated in Notion?\\n- Can you please ensure this is updated in Notion?\\n- Can you please ensure this is updated in Notion?\\n- Can you please ensure this is updated in Notion?\\n- Can you please ensure this is updated in Notion?\\n- Can you please ensure this is updated in Notion?\\n- Can you please ensure this is updated in Notion?\\n- Can you please ensure this is updated in Notion?\\n- Can you please ensure this is updated in Notion?\\n- Can you please ensure this is updated in Notion?\\n- Can you please ensure this is updated in Notion?\\n- Can you please ensure this is updated in Notion?\\n- Can you please ensure this is updated in Notion?\\n- Can you please ensure this is updated in Notion?\\n- Can you please ensure this is updated in Notion?\\n- Can you please ensure this is updated in Notion?\\n- Can you please ensure this is updated in Notion?\\n- Can you please ensure this is updated in Notion?\\n- Can you please ensure this is updated in Notion?\\n- Can you please ensure this is updated in Notion?\\n- Can you please ensure this is updated in Notion?\\n- Can you please ensure this is updated in Notion?\\n- Can you please ensure this is updated in Notion?\\n- Can you please ensure this is updated in Notion?\\n- Can you please ensure this is updated in Notion?\\n- Can you please ensure this is updated in Notion?\\n- Can you please ensure this is updated in Notion?\\n- Can you please ensure this is updated in Notion?\\n- Can you please ensure this is updated in Notion?\\n- Can you please ensure this is updated in Notion?\\n- Can you please ensure this is updated in Notion?\\n- Can you please ensure this is updated in Notion?\\n- Can you please ensure this is updated in Notion?\\n- Can you please ensure this is updated in Notion?\\n- Can you please ensure this is updated in Notion?\\n- Can you please ensure this is updated in Notion?\\n- Can you please ensure this is updated in Notion?\\n- Can you please ensure this is updated in Notion?\\n- Can you please ensure this is updated in Notion?\\n- Can you please ensure this is updated in Notion?\\n- Can you please ensure this is updated in Notion?\\n- Can you please ensure this is updated in Notion?\\n- Can you please ensure this is updated in Notion?\\n- Can you please ensure this is updated in Notion?\\n- Can you please ensure this is updated in Notion?\\n- Can you please ensure this is updated in Notion?\\n- Can you please ensure this is updated in Notion?\\n- Can you please ensure this is updated in Notion?\\n- Can you please ensure this is updated in Notion?\\n- Can you please ensure this is updated in Notion?\\n- Can you please ensure this is updated in Notion?\\n- Can you please ensure this is updated in Notion?\\n- Can you please ensure this is updated in Notion?\\n- Can you please ensure this is updated in Notion?\\n- Can you please ensure this is updated in Notion?\\n- Can you please ensure this is updated in Notion?\\n- Can you please ensure this is updated in Notion?\\n- Can you please ensure this is updated in Notion?\\n- Can you please ensure this is updated in Notion?\\n- Can you please ensure this is updated in Notion?\\n- Can you please ensure this is updated in Notion?\\n- Can you please ensure this is updated in Notion?\\n- Can you please ensure this is updated in Notion?\\n- Can you please ensure this is updated in Notion?\\n- Can you please ensure this is updated in Notion?\\n- Can you please ensure this is updated in Notion?\\n- Can you please ensure this is updated in Notion?\\n- Can you please ensure this is updated in Notion?\\n- Can you please ensure this is updated in Notion?\\n- Can you please ensure this is updated in Notion?\\n- Can you please ensure this is updated in Notion?\\n- Can you please ensure this is updated in Notion?\\n- Can you please ensure this is updated in Notion?\\n- Can you please ensure this is updated in Notion?\\n- Can you please ensure this is updated in Notion?\\n- Can you please ensure this is updated in Notion?\\n- Can you please ensure this is updated in Notion?\\n- Can you please ensure this is updated in Notion?\\n- Can you please ensure this is updated in Notion?\\n- Can you please ensure this is updated in Notion?\\n- Can you please ensure this is updated in Notion?\\n- Can you please ensure this is updated in Notion?\\n- Can you please ensure this is updated in Notion?\\n- Can you please ensure this is updated in Notion?\\n- Can you please ensure this is updated in Notion?\\n- Can you please ensure this is updated in Notion?\\n- Can you please ensure this is updated in Notion?\\n- Can you please ensure this is updated in Notion?\\n- Can you please ensure this is updated in Notion?\\n- Can you please ensure this is updated in Notion?\\n- Can you please ensure this is updated in Notion?\\n- Can you please ensure this is updated in Notion?\\n- Can you please ensure this is updated in Notion?\\n- Can you please ensure this is updated in Notion?\\n- Can you please ensure this is updated in Notion?\\n- Can you please ensure this is updated in Notion?\\n- Can you please ensure this is updated in Notion?\\n- Can you please ensure this is updated in Notion?\\n- Can you please ensure this is updated in Notion?\\n- Can you please ensure this is updated in Notion?\\n- Can you please ensure this is updated in Notion?\\n- Can you please ensure this is updated in Notion?\\n- Can you please ensure this is updated in Notion?\\n- Can you please ensure this is updated in Notion?\\n- Can you please ensure this is updated in Notion?\\n- Can you please ensure this is updated in Notion?\\n- Can you please ensure this is updated in Notion?\\n- Can you please ensure this is updated in Notion?\\n- Can you please ensure this is updated in Notion?\\n- Can you please ensure this is updated in Notion?\\n- Can you please ensure this is updated in Notion?\\n- Can you please ensure this is updated in Notion?\\n- Can you please ensure this is updated in Notion?\\n- Can you please ensure this is updated in Notion?\\n- Can you please ensure this is updated in Notion?\\n- Can you please ensure this is updated in Notion?\\n- Can you please ensure this is updated in Notion?\\n- Can you please ensure this is updated in Notion?\\n- Can you please ensure this is updated in Notion?\\n- Can you please ensure this is updated in Notion?\\n- Can you please ensure this is updated in Notion?\\n- Can you please ensure this is updated in Notion?\\n- Can you please ensure this is updated in Notion?\\n- Can you please ensure this is updated in Notion?\\n- Can you please ensure this is updated in Notion?\\n- Can you please ensure this is updated in Notion?\\n- Can you please ensure this is updated in Notion?\\n- Can you please ensure this is updated in Notion?\\n- Can you please ensure this is updated in Notion?\\n- Can you please ensure this is updated in Notion?\\n- Can you please ensure this is updated in Notion?\\n- Can you please ensure this is updated in Notion?\\n- Can you please ensure this is updated in Notion?\\n- Can you please ensure this is updated in Notion?\\n- Can you please ensure this is updated in Notion?\\n- Can you please ensure this is updated in Notion?\\n- Can you please ensure this is updated in Notion?\\n- Can you please ensure this is updated in Notion?\\n- Can you please ensure this is updated in Notion?\\n- Can you please ensure this is updated in Notion?\\n- Can you please ensure this is updated in Notion?\\n- Can you please ensure this is updated in Notion?\\n- Can you please ensure this is updated in Notion?\\n- Can you please ensure this is updated in Notion?\\n- Can you please ensure this is updated in Notion?\\n- Can you please ensure this is updated in Notion?\\n- Can you please ensure this is updated in Notion?\\n- Can you please ensure this is updated in Notion?\\n- Can you please ensure this is updated in Notion?\\n- Can you please ensure this is updated in Notion?\\n- Can you please ensure this is updated in Notion?\\n- Can you please ensure this is updated in Notion?\\n- Can you please ensure this is updated in Notion?\\n- Can you please ensure this is updated in Notion?\\n- Can you please ensure this is updated in Notion?\\n- Can you please ensure this is updated in Notion?\\n- Can you please ensure this is updated in Notion?\\n- Can you please ensure this is updated in Notion?\\n- Can you please ensure this is updated in Notion?\\n- Can you please ensure this is updated in Notion?\\n- Can you please ensure this is updated in Notion?\\n- Can you please ensure this is updated in Notion?\\n- Can you please ensure this is updated in Notion?\\n- Can you please ensure this is updated in Notion?\\n- Can you please ensure this is updated in Notion?\\n- Can you please ensure this is updated in Notion?\\n- Can you please ensure this is updated in Notion?\\n- Can you please ensure this is updated in Notion?\\n- Can you please ensure this is updated in Notion?\\n- Can you please ensure this is updated in Notion?\\n- Can you please ensure this is updated in Notion?\\n- Can you please ensure this is updated in Notion?\\n- Can you please ensure this is updated in Notion?\\n- Can you please ensure this is updated in Notion?\\n- Can you please ensure this is updated in Notion?\\n- Can you please ensure this is updated in Notion?\\n- Can you please ensure this is updated in Notion?\\n- Can you please ensure this is updated in Notion?\\n- Can you please ensure this is updated in Notion?\\n- Can you please ensure this is updated in Notion?\\n- Can you please ensure this is updated in Notion?\\n- Can you please ensure this is updated in Notion?\\n- Can you please ensure this is updated in Notion?\\n- Can you please ensure this is updated in Notion?\\n- Can you please ensure this is updated in Notion?\\n- Can you please ensure this is updated in Notion?\\n- Can you please ensure this is updated in Notion?\\n- Can you please ensure this is updated in Notion?\\n- Can you please ensure this is updated in Notion?\\n- Can you please ensure this is updated in Notion?\\n- Can you please ensure this is updated in Notion?\\n- Can you please ensure this is updated in Notion?\\n- Can you please ensure this is updated in Notion?\\n- Can you please ensure this is updated in Notion?\\n- Can you please ensure this is updated in Notion?\\n- Can you please ensure this is updated in Notion?\\n- Can you please ensure this is updated in Notion?\\n- Can you please ensure this is updated in Notion?\\n- Can you please ensure this is updated in Notion?\\n- Can you please ensure this is updated in Notion?\\n- Can you please ensure this is updated in Notion?\\n- Can you please ensure this is updated in Notion?\\n- Can you please ensure this is updated in Notion?\\n- Can you please ensure this is updated in Notion?\\n- Can you please ensure this is updated in Notion?\\n- Can you please ensure this is updated in Notion?\\n- Can you please ensure this is updated in Notion?\\n- Can you please ensure this is updated in\",\n",
              " \"**1. Meeting Schedules & Availability**\\n- Can we have a quick recording of a demo when it's ready?\\n- Let me know your availability so that we can collaborate on the task.\\n- Can you join?\\n- Should we delete the feature branches remotely?\\n\\n**2. API Access & Authentication**\\n- How do I obtain OAuth credentials for API access?\\n- What permissions are required to authenticate via the API?\\n- How do I troubleshoot OAuth authentication failures?\\n\\n**3. Debugging & Technical Issues**\\n- How do I resolve an SSL protocol error?\\n- What's the best way to debug OAuth authentication issues?\\n- How do I fix issues with database connections?\\n- Should we make our most recent code into that branch, or should we just change the branch that wants to merge to dev to be on consolidation branch?\\n- Should I merge the work we did in `feat.slack/secure-token-storage` into `consolidation-slack` or should I delete the branch?\\n- Should the info from official docs be documented here or here?\\n\\n**4. Project Management & Task Coordination**\\n- How should we organize project tasks in Notion?\\n- What is the best practice for managing Git branches?\\n- How do we handle merging conflicts effectively?\\n- What is the difference between publishing a Notion page or a [NAME HIDDEN]?\\n- What's the best way to share a Notion page?\\n\\n**5. Tools & Resources**\\n- When are you going to get ChatGPT account any idea?\\n- Do you have full access to your @webeet.io emails?\\n- Can you log in into boot.dev with your Webeet email and see if you have access?\\n\\n**6. Security & Compliance**\\n- Do we have a new logical flow for admins, so we can start and build the UX/UI for it?\\n- Can you please take a look at it from Security perspective that we don't miss anything?\\n- Will that be enough for Onebeat?\\n\\n**7. Onboarding & Team Integration**\\n- Can you let me know how to contact her or would you like to introduce her first so she is aware?\",\n",
              " \"**1. Meeting Schedules & Availability**\\n- What time works for everyone for the next team meeting?\\n- Can we schedule a 1-1 session?\\n- Is there a slot available to meet before our scheduled call?\\n- Let me know when is the earliest you're available for a call.\\n- Can we have a meeting post 10:45 am?\\n- How about meeting on Monday then, if Friday doesn't really work?\\n\\n**2. API Access & Authentication**\\n- How do I obtain OAuth credentials for API access?\\n- What permissions are required to authenticate via the API?\\n- How do I troubleshoot OAuth authentication failures?\\n\\n**3. Debugging & Technical Issues**\\n- How do I resolve an SSL protocol error?\\n- What's the best way to debug OAuth authentication issues?\\n- How do I fix issues with database connections?\\n- Should we run `git pull origin main`, or is there a `git pull origin development` branch we should be working from?\\n\\n**4. Project Management & Task Coordination**\\n- How should we organize project tasks in Notion?\\n- What is the best practice for managing Git branches?\\n- How do we handle merging conflicts effectively?\\n- What are we choosing as first metrics?\\n\\n**5. Data & Integration**\\n- Do we have shared data camp account?\\n- Can you describe again exactly what we should write in AI tools?\\n\\n**6. General Inquiries**\\n- Do you agree? Let me know what you think.\\n- How can we verify there are zero hallucinations in prompts and manual checking?\",\n",
              " \"**1. Meeting Schedules & Availability**\\n- What time works for everyone for the next team meeting?\\n- Can you please record the meeting?\\n- Does anyone have schedule conflicts with the time?\\n\\n**2. API Access & Authentication**\\n- How do I obtain OAuth credentials for API access?\\n- Could you check if there’s an issue with the access or if I need to take any additional steps?\\n- Did you sign in with the user I gave you yesterday?\\n\\n**3. Debugging & Technical Issues**\\n- How do I resolve an SSL protocol error?\\n- What's the best way to debug OAuth authentication issues?\\n- How do I fix issues with database connections?\\n- Is there a chance you have another instance of the application running?\\n- Did you configure the Doppler CLI with the new login?\\n\\n**4. Project Management & Task Coordination**\\n- How should we organize project tasks in Notion?\\n- What is the best practice for managing Git branches?\\n- How do we handle merging conflicts effectively?\\n- Do I need to do something specific for the task?\\n- What are self-healing systems and how do they work?\\n\\n**5. Tools & Software Usage**\\n- How do I troubleshoot OAuth authentication failures?\\n- Has anyone managed to use the Claude AI on an iPhone?\\n- What are we using? Jest?\\n- What is the best way for them to contact you?\\n\\n**6. General Inquiries**\\n- Is any one fix this problem?\\n- Can you help?\\n- Is there someone who is willing to go on a call with them and answer questions?\",\n",
              " \"**1. Meeting Schedules & Availability**\\n- What time works for everyone for the next team meeting?\\n- Can we schedule a 1-1 session?\\n- Is there a slot available to meet before our scheduled call?\\n- Should we have a meeting tomorrow morning?\\n- Do you want to meet today and discuss it?\\n- Do we have another meeting this week?\\n- Where are we meeting today?\\n- Can someone share the Zoom link here?\\n- Please share us the Zoom link. I also did not get it.\\n\\n**2. API Access & Authentication**\\n- How do I obtain OAuth credentials for API access?\\n- What permissions are required to authenticate via the API?\\n- How do I troubleshoot OAuth authentication failures?\\n- What are the `.env` keys used in the server?\\n- Should it be named `CLIENT_BASE` to keep consistent with naming conventions across the project?\\n\\n**3. Debugging & Technical Issues**\\n- How do I resolve an SSL protocol error?\\n- What's the best way to debug OAuth authentication issues?\\n- How do I fix issues with database connections?\\n- Is there any route to check connect/disconnect functionality from the frontend?\\n\\n**4. Project Management & Task Coordination**\\n- How should we organize project tasks in Notion?\\n- What is the best practice for managing Git branches?\\n- How do we handle merging conflicts effectively?\\n- Do we want to collect old data too or start collecting from the day they give us access?\\n- Can you please give access to sensitive columns for all of the team members?\\n\\n**5. General Inquiries**\\n- What is it about and for how long?\\n- Do you feel like it is self-explanatory or do you want to meet today and discuss it?\\n- Can somebody explain to me what kind of content is masked by [QUOTED TEXT HIDDEN]?\",\n",
              " \"**1. Meeting Schedules & Availability**\\n- What time works for everyone for the next team meeting?\\n- Can we schedule a 1-1 session?\\n- Is there a slot available to meet before our scheduled call?\\n- Would you have time to have a quick huddle today?\\n- Whoever wants to attend a meeting in the evening about KPI metrics, please let us know!\\n\\n**2. API Access & Authentication**\\n- How do I obtain OAuth credentials for API access?\\n- What permissions are required to authenticate via the API?\\n- How do I troubleshoot OAuth authentication failures?\\n\\n**3. Debugging & Technical Issues**\\n- How do I resolve an SSL protocol error?\\n- What's the best way to debug OAuth authentication issues?\\n- How do I fix issues with database connections?\\n- How would I go about analyzing a CSV file with SQL queries?\\n\\n**4. Project Management & Task Coordination**\\n- How should we organize project tasks in Notion?\\n- What is the best practice for managing Git branches?\\n- How do we handle merging conflicts effectively?\\n- If you need descriptions in the task, please let me know!\\n- Please check if you have your DataCamp subscription and when does it expire (if possible).\\n\\n**5. Tools & Platforms**\\n- Does anyone have good practical knowledge of Airtable?\\n- Do you use BigQuery, or which programs/platforms do you use in this case?\\n- Make sure that you have access to ChatGPT Pro, and those who haven't, please let me know in the thread.\"]"
            ]
          },
          "metadata": {},
          "execution_count": 13
        }
      ],
      "source": [
        "faq_b300 = batch_messages_300(team_slack, column='masked_text')\n",
        "faq_b300"
      ]
    },
    {
      "cell_type": "markdown",
      "metadata": {
        "id": "5qL9s4YrZaY2"
      },
      "source": [
        "### Merge b100 and b300 results\n",
        "\n",
        "Combining the results of batch size 100 and batch size 300 into a single, balanced summary. This allows the LLM to merge the high-level themes from batch 300 with the more detailed breakdown from batch 100, resulting in a structured but not overly detailed summary."
      ]
    },
    {
      "cell_type": "code",
      "execution_count": null,
      "metadata": {
        "id": "maauEEHvZevc"
      },
      "outputs": [],
      "source": [
        "def merge_summaries(faq_b100, faq_b300, model=\"gpt-4o\"):\n",
        "    \"\"\"Merge and refine the two batch summaries into a single, balanced list.\"\"\"\n",
        "\n",
        "    prompt = f\"\"\"\n",
        "    You are analyzing two summaries of common Slack discussions focussing on common questions raised:\n",
        "\n",
        "    1. **The first summary (Batch 300)** is a high-level overview of the most recurring questions.\n",
        "    2. **The second summary (Batch 100)** is a more detailed breakdown of different questions.\n",
        "\n",
        "    Your task is to merge these into a **single, refined summary** that:\n",
        "    - Keeps the most important topics and questions from Batch 300.\n",
        "    - Retains useful details from Batch 100 without excessive repetition.\n",
        "    - Ensures topics are **not too broad, but also not overly detailed**.\n",
        "    - Groups similar questions together.\n",
        "    - Avoids listing redundant information.\n",
        "\n",
        "    Here are the summaries:\n",
        "\n",
        "    **Batch 300 Summary:**\n",
        "    {faq_b300}\n",
        "\n",
        "    **Batch 100 Summary:**\n",
        "    {faq_b100}\n",
        "\n",
        "    Please return the merged summary in a structured format with grouped categories.\n",
        "    \"\"\"\n",
        "\n",
        "    # client = openai.OpenAI(api_key=\"your-api-key-here\")  # Ensure API key is set\n",
        "\n",
        "    response = client.chat.completions.create(\n",
        "        model=model,\n",
        "        messages=[{\"role\": \"system\", \"content\": \"You are an AI expert at refining and merging topic summaries.\"},\n",
        "                  {\"role\": \"user\", \"content\": prompt}],\n",
        "        temperature=0.3  # Keep it structured and deterministic\n",
        "    )\n",
        "\n",
        "    return response.choices[0].message.content  # Extract refined summary\n"
      ]
    },
    {
      "cell_type": "code",
      "execution_count": null,
      "metadata": {
        "id": "qKDM-aa8aAnf"
      },
      "outputs": [],
      "source": [
        "merged_faqs = merge_summaries(faq_b100, faq_b300)"
      ]
    },
    {
      "cell_type": "markdown",
      "metadata": {
        "id": "doVC29MCavCk"
      },
      "source": [
        "# Summary of results"
      ]
    },
    {
      "cell_type": "markdown",
      "source": [
        "Please note:\n",
        "Here I **manually removed the last category (\"General Inquiries\")** because it was a little messy and included a mix of internal feedback and random one-off asks."
      ],
      "metadata": {
        "id": "xn9WkhQpU_nM"
      }
    },
    {
      "cell_type": "code",
      "source": [
        "def remove_last_category(merged_faqs_text, category_title=\"**6. General Inquiries**\"):\n",
        "    \"\"\"Removes the last unwanted category and anything after it from the merged FAQ text.\"\"\"\n",
        "    if category_title in merged_faqs_text:\n",
        "        # Only keep the part before the unwanted category\n",
        "        cleaned_text = merged_faqs_text.split(category_title)[0].strip()\n",
        "        return cleaned_text\n",
        "    else:\n",
        "        # If the category is not found, return the original text\n",
        "        return merged_faqs_text\n"
      ],
      "metadata": {
        "id": "-nL-XowVU-K4"
      },
      "execution_count": null,
      "outputs": []
    },
    {
      "cell_type": "code",
      "source": [
        "# Remove the 6th category before printing or uploading\n",
        "cleaned_merged_faqs = remove_last_category(merged_faqs)\n",
        "\n",
        "# Now print the cleaned version\n",
        "print(cleaned_merged_faqs)\n"
      ],
      "metadata": {
        "colab": {
          "base_uri": "https://localhost:8080/"
        },
        "id": "GcjdfX4NVQa9",
        "outputId": "4bd2ae78-2dc7-431f-924c-af42e11e5181"
      },
      "execution_count": null,
      "outputs": [
        {
          "output_type": "stream",
          "name": "stdout",
          "text": [
            "**Merged Summary of Slack Discussions**\n",
            "\n",
            "**1. Meeting Schedules & Availability**\n",
            "- What time works for everyone for the next team meeting?\n",
            "- Can we schedule a 1-1 session?\n",
            "- Is there a slot available to meet before our scheduled call?\n",
            "- Should we have a meeting tomorrow morning?\n",
            "- Please let me know what hours work for you, so that we can plan team calls accordingly.\n",
            "- Can you please record the meeting?\n",
            "- Does anyone have schedule conflicts with the time?\n",
            "\n",
            "**2. API Access & Authentication**\n",
            "- How do I obtain OAuth credentials for API access?\n",
            "- What permissions are required to authenticate via the API?\n",
            "- How do I troubleshoot OAuth authentication failures?\n",
            "- Could you check if there’s an issue with the access or if I need to take any additional steps?\n",
            "- Do I need to create a new Slack app to obtain the required API access token?\n",
            "\n",
            "**3. Debugging & Technical Issues**\n",
            "- How do I resolve an SSL protocol error?\n",
            "- What's the best way to debug OAuth authentication issues?\n",
            "- How do I fix issues with database connections?\n",
            "- Is there a chance you have another instance of the application running?\n",
            "- Did you configure the Doppler CLI with the new login?\n",
            "- Can you specify the exact page you tried to access?\n",
            "\n",
            "**4. Project Management & Task Coordination**\n",
            "- How should we organize project tasks in Notion?\n",
            "- What is the best practice for managing Git branches?\n",
            "- How do we handle merging conflicts effectively?\n",
            "- Should I merge my code now and make another PR to follow the guide, or make the changes first?\n",
            "- Can you please ensure this is updated in Notion?\n",
            "\n",
            "**5. Tools & Software Usage**\n",
            "- Does anyone have good practical knowledge of Airtable?\n",
            "- Do you use BigQuery, or which programs/platforms do you use for SQL queries?\n",
            "- Make sure that you have access to ChatGPT Pro. Those who haven't, please let me know in the thread.\n"
          ]
        }
      ]
    },
    {
      "cell_type": "markdown",
      "metadata": {
        "id": "umrtl92gu_g4"
      },
      "source": [
        "# Notion Integration"
      ]
    },
    {
      "cell_type": "code",
      "execution_count": null,
      "metadata": {
        "id": "ursK_Eb-vD33"
      },
      "outputs": [],
      "source": [
        "# pip install notion-client"
      ]
    },
    {
      "cell_type": "code",
      "execution_count": null,
      "metadata": {
        "id": "I83dJKrmxWwX"
      },
      "outputs": [],
      "source": [
        "from notion_client import Client\n",
        "import os\n",
        "\n",
        "# --- SETUP: Replace with your credentials ---\n",
        "NOTION_API_KEY = \"insert_your_own_Notion_API_key_here\"  # Replace with your API key\n",
        "NOTION_PAGE_ID = \"1afd8cbfdbfd80279fa5c9200855c19b\"  # Replace with the Notion Page ID\n",
        "\n",
        "# --- Initialize Notion Client ---\n",
        "notion = Client(auth=NOTION_API_KEY)"
      ]
    },
    {
      "cell_type": "code",
      "source": [
        "# The output generated by the LLM is in Markdown-style formatting.\n",
        "# This function parses the Markdown into a list of Notion blocks.\n",
        "\n",
        "def parse_markdown_to_notion_blocks(markdown_text):\n",
        "    \"\"\"\n",
        "    Parses simple Markdown text into a list of Notion blocks (headings and bullet list items).\n",
        "    Only handles bold headings (**) and bullets (-).\n",
        "    \"\"\"\n",
        "\n",
        "    notion_blocks = []\n",
        "    lines = markdown_text.splitlines()\n",
        "\n",
        "    for line in lines:\n",
        "        line = line.strip()\n",
        "        if not line:\n",
        "            continue  # skip empty lines\n",
        "\n",
        "        # Heading detection: lines starting and ending with **\n",
        "        if line.startswith(\"**\") and line.endswith(\"**\"):\n",
        "            heading_text = line.strip(\"*\").strip()\n",
        "            block = {\n",
        "                \"object\": \"block\",\n",
        "                \"type\": \"heading_2\",\n",
        "                \"heading_2\": {\n",
        "                    \"rich_text\": [\n",
        "                        {\"type\": \"text\", \"text\": {\"content\": heading_text}}\n",
        "                    ]\n",
        "                }\n",
        "            }\n",
        "            notion_blocks.append(block)\n",
        "\n",
        "        # Bullet detection: lines starting with -\n",
        "        elif line.startswith(\"-\"):\n",
        "            bullet_text = line.lstrip(\"-\").strip()\n",
        "            block = {\n",
        "                \"object\": \"block\",\n",
        "                \"type\": \"bulleted_list_item\",\n",
        "                \"bulleted_list_item\": {\n",
        "                    \"rich_text\": [\n",
        "                        {\"type\": \"text\", \"text\": {\"content\": bullet_text}}\n",
        "                    ]\n",
        "                }\n",
        "            }\n",
        "            notion_blocks.append(block)\n",
        "\n",
        "        # Otherwise, ignore the line (safe for now)\n",
        "\n",
        "    return notion_blocks\n"
      ],
      "metadata": {
        "id": "bBqlAuAaQm-n"
      },
      "execution_count": null,
      "outputs": []
    },
    {
      "cell_type": "code",
      "source": [
        "# Function to Add Parsed Content to Notion Page\n",
        "def add_blocks_to_notion(blocks, page_id):\n",
        "    \"\"\"Uploads a list of Notion blocks to the specified Notion page.\"\"\"\n",
        "\n",
        "    # Append blocks to the Notion page\n",
        "    notion.blocks.children.append(page_id, children=blocks)\n"
      ],
      "metadata": {
        "id": "yBbGYy8FQ92t"
      },
      "execution_count": null,
      "outputs": []
    },
    {
      "cell_type": "code",
      "source": [
        "# Parse the merged_faqs markdown into structured Notion blocks\n",
        "notion_blocks = parse_markdown_to_notion_blocks(cleaned_merged_faqs)\n",
        "\n",
        "# Upload the structured blocks to Notion\n",
        "add_blocks_to_notion(notion_blocks, NOTION_PAGE_ID)\n",
        "\n",
        "print(\"✅ Data successfully added to Notion!\")\n"
      ],
      "metadata": {
        "colab": {
          "base_uri": "https://localhost:8080/"
        },
        "id": "Cn8_BzSqQ-Ut",
        "outputId": "fb3991b0-cd5c-4d2a-bd20-58ac1ce8ee6b"
      },
      "execution_count": null,
      "outputs": [
        {
          "output_type": "stream",
          "name": "stdout",
          "text": [
            "✅ Data successfully added to Notion!\n"
          ]
        }
      ]
    }
  ],
  "metadata": {
    "colab": {
      "provenance": [],
      "toc_visible": true
    },
    "kernelspec": {
      "display_name": "Python 3",
      "name": "python3"
    },
    "language_info": {
      "codemirror_mode": {
        "name": "ipython",
        "version": 3
      },
      "file_extension": ".py",
      "mimetype": "text/x-python",
      "name": "python",
      "nbconvert_exporter": "python",
      "pygments_lexer": "ipython3",
      "version": "3.12.4"
    }
  },
  "nbformat": 4,
  "nbformat_minor": 0
}